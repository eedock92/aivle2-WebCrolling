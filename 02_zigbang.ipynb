{
 "cells": [
  {
   "cell_type": "raw",
   "id": "6773fb37-4f4b-41d9-a3d3-91d0fa7befb9",
   "metadata": {},
   "source": [
    "##### 직방의 원룸 매물정보 수집\n",
    "- 절차\n",
    "    1. 동이름 => 위도, 경도, 수집\n",
    "    2. 위도, 경도 => geohash(반경) 변환\n",
    "    3. geohash(영역) => 매물 아이디\n",
    "    4. 매물 아이디 => 매물 정보"
   ]
  },
  {
   "cell_type": "code",
   "execution_count": 3,
   "id": "90738482-46e4-4b8c-a442-9ce9e3a6ea09",
   "metadata": {},
   "outputs": [],
   "source": [
    "import requests\n",
    "import pandas as pd\n",
    "import geohash2"
   ]
  },
  {
   "cell_type": "code",
   "execution_count": 2,
   "id": "34416b8e-bc20-447d-a0e4-cae724108967",
   "metadata": {},
   "outputs": [
    {
     "name": "stdout",
     "output_type": "stream",
     "text": [
      "Collecting geohash2\n",
      "  Downloading geohash2-1.1.tar.gz (15 kB)\n",
      "Requirement already satisfied: docutils>=0.3 in c:\\users\\user\\anaconda3\\lib\\site-packages (from geohash2) (0.17)\n",
      "Building wheels for collected packages: geohash2\n",
      "  Building wheel for geohash2 (setup.py): started\n",
      "  Building wheel for geohash2 (setup.py): finished with status 'done'\n",
      "  Created wheel for geohash2: filename=geohash2-1.1-py3-none-any.whl size=15544 sha256=4d3caa5d701565f6120322f0a75eb1986faba296c2bfafb19a27d2de89deca10\n",
      "  Stored in directory: c:\\users\\user\\appdata\\local\\pip\\cache\\wheels\\2d\\0c\\66\\dcd768c9e7c26fc81ec59bfe24af9d780fc9dbdf7f90b0cf00\n",
      "Successfully built geohash2\n",
      "Installing collected packages: geohash2\n",
      "Successfully installed geohash2-1.1\n"
     ]
    }
   ],
   "source": [
    "#!pip install geohash2"
   ]
  },
  {
   "cell_type": "code",
   "execution_count": 8,
   "id": "fa000938-e237-4c12-bb6a-851b4d3f5691",
   "metadata": {},
   "outputs": [
    {
     "data": {
      "text/plain": [
       "(35.21626663208008, 128.6872100830078)"
      ]
     },
     "execution_count": 8,
     "metadata": {},
     "output_type": "execute_result"
    }
   ],
   "source": [
    "#1. 동이름 ==> 위도, 경도\n",
    "#search? 에 header의 주소를 가져온다\n",
    "#깨진 글은 https://meyerweb.com/eric/tools/dencoder/ 에서 decoding\n",
    "addr = \"성산구 상남동\"\n",
    "url = f\"https://apis.zigbang.com/v2/search?leaseYn=N&q={addr}&serviceType=원룸\"\n",
    "response = requests.get(url)\n",
    "data = response.json()['items'][0]\n",
    "lat, lng = data['lat'], data['lng']\n",
    "lat, lng"
   ]
  },
  {
   "cell_type": "code",
   "execution_count": null,
   "id": "f0dffebe-76b6-449c-ad0f-e2a5b2272b4c",
   "metadata": {},
   "outputs": [],
   "source": [
    "#2. 위도, 경도 ==> geohash"
   ]
  },
  {
   "cell_type": "code",
   "execution_count": 10,
   "id": "e48be0a3-bbab-417c-8b71-e5085ca19d4f",
   "metadata": {},
   "outputs": [
    {
     "data": {
      "text/plain": [
       "'wy782'"
      ]
     },
     "execution_count": 10,
     "metadata": {},
     "output_type": "execute_result"
    }
   ],
   "source": [
    "geohash = geohash2.encode(lat, lng, precision=5)\n",
    "geohash"
   ]
  },
  {
   "cell_type": "code",
   "execution_count": 12,
   "id": "65cd42d7-3f46-4759-a653-6e49cf1386db",
   "metadata": {},
   "outputs": [
    {
     "data": {
      "text/plain": [
       "<Response [200]>"
      ]
     },
     "execution_count": 12,
     "metadata": {},
     "output_type": "execute_result"
    }
   ],
   "source": [
    "#3. geohash ==> 매물 아이디\n",
    "# items?deposit_gteq\n",
    "url = f\"https://apis.zigbang.com/v2/items?deposit_gteq=0&domain=zigbang\\\n",
    "&geohash={geohash}&needHasNoFiltered=true&rent_gteq=0&sales_type_in=전세|월세&service_type_eq=원룸\"\n",
    "response = requests.get(url)\n",
    "response"
   ]
  },
  {
   "cell_type": "code",
   "execution_count": 15,
   "id": "1475eed7-f082-46bb-a0e0-2ee4dd016a32",
   "metadata": {},
   "outputs": [
    {
     "data": {
      "text/plain": [
       "(207,\n",
       " [{'lat': 35.20531103880102, 'lng': 128.7013631815903, 'item_id': 32598318},\n",
       "  {'lat': 35.20485005103786, 'lng': 128.70139904185925, 'item_id': 32773496}])"
      ]
     },
     "execution_count": 15,
     "metadata": {},
     "output_type": "execute_result"
    }
   ],
   "source": [
    "items = response.json()['items']\n",
    "len(items), items[:2]"
   ]
  },
  {
   "cell_type": "code",
   "execution_count": 18,
   "id": "ce2e87ce-db3a-4c3f-ba85-7947869e55da",
   "metadata": {},
   "outputs": [
    {
     "data": {
      "text/plain": [
       "[32598318, 32773496, 32483503, 32535077, 32535095]"
      ]
     },
     "execution_count": 18,
     "metadata": {},
     "output_type": "execute_result"
    }
   ],
   "source": [
    "ids = [items['item_id'] for items in items]\n",
    "ids[:5]"
   ]
  },
  {
   "cell_type": "code",
   "execution_count": 19,
   "id": "36efbc94-cdce-4d3a-ac7e-44ee96cb0aee",
   "metadata": {},
   "outputs": [
    {
     "data": {
      "text/plain": [
       "<Response [200]>"
      ]
     },
     "execution_count": 19,
     "metadata": {},
     "output_type": "execute_result"
    }
   ],
   "source": [
    "#4. 매물 아이디 ==> 매물 정보\n",
    "#list에 header url : https://apis.zigbang.com/v2/items/list\n",
    "url = \"https://apis.zigbang.com/v2/items/list\"\n",
    "params = {\n",
    "    \"domain\" : \"zigbang\",\n",
    "    \"withCoalition\" : \"true\",\n",
    "    \"item_ids\" : ids[:900] \n",
    "}\n",
    "\n",
    "response = requests.post(url,params)\n",
    "response"
   ]
  },
  {
   "cell_type": "code",
   "execution_count": 33,
   "id": "43a77cc4-eaac-47cb-b5c8-d8ae59117acf",
   "metadata": {},
   "outputs": [
    {
     "data": {
      "text/html": [
       "<div>\n",
       "<style scoped>\n",
       "    .dataframe tbody tr th:only-of-type {\n",
       "        vertical-align: middle;\n",
       "    }\n",
       "\n",
       "    .dataframe tbody tr th {\n",
       "        vertical-align: top;\n",
       "    }\n",
       "\n",
       "    .dataframe thead th {\n",
       "        text-align: right;\n",
       "    }\n",
       "</style>\n",
       "<table border=\"1\" class=\"dataframe\">\n",
       "  <thead>\n",
       "    <tr style=\"text-align: right;\">\n",
       "      <th></th>\n",
       "      <th>item_id</th>\n",
       "      <th>sales_type</th>\n",
       "      <th>deposit</th>\n",
       "      <th>rent</th>\n",
       "      <th>size_m2</th>\n",
       "      <th>address1</th>\n",
       "      <th>manage_cost</th>\n",
       "    </tr>\n",
       "  </thead>\n",
       "  <tbody>\n",
       "    <tr>\n",
       "      <th>0</th>\n",
       "      <td>32598318</td>\n",
       "      <td>월세</td>\n",
       "      <td>300</td>\n",
       "      <td>40</td>\n",
       "      <td>29.75</td>\n",
       "      <td>경상남도 창원시 성산구 가음동</td>\n",
       "      <td>0</td>\n",
       "    </tr>\n",
       "    <tr>\n",
       "      <th>1</th>\n",
       "      <td>32773496</td>\n",
       "      <td>월세</td>\n",
       "      <td>300</td>\n",
       "      <td>35</td>\n",
       "      <td>29.75</td>\n",
       "      <td>경상남도 창원시 성산구 가음동</td>\n",
       "      <td>2</td>\n",
       "    </tr>\n",
       "    <tr>\n",
       "      <th>2</th>\n",
       "      <td>32483503</td>\n",
       "      <td>월세</td>\n",
       "      <td>300</td>\n",
       "      <td>30</td>\n",
       "      <td>33.06</td>\n",
       "      <td>경상남도 창원시 성산구 가음동</td>\n",
       "      <td>1</td>\n",
       "    </tr>\n",
       "    <tr>\n",
       "      <th>3</th>\n",
       "      <td>32535077</td>\n",
       "      <td>월세</td>\n",
       "      <td>300</td>\n",
       "      <td>25</td>\n",
       "      <td>23.14</td>\n",
       "      <td>경상남도 창원시 성산구 남양동</td>\n",
       "      <td>1</td>\n",
       "    </tr>\n",
       "    <tr>\n",
       "      <th>4</th>\n",
       "      <td>32535095</td>\n",
       "      <td>월세</td>\n",
       "      <td>300</td>\n",
       "      <td>27</td>\n",
       "      <td>26.45</td>\n",
       "      <td>경상남도 창원시 성산구 남양동</td>\n",
       "      <td>1</td>\n",
       "    </tr>\n",
       "    <tr>\n",
       "      <th>...</th>\n",
       "      <td>...</td>\n",
       "      <td>...</td>\n",
       "      <td>...</td>\n",
       "      <td>...</td>\n",
       "      <td>...</td>\n",
       "      <td>...</td>\n",
       "      <td>...</td>\n",
       "    </tr>\n",
       "    <tr>\n",
       "      <th>202</th>\n",
       "      <td>32813383</td>\n",
       "      <td>월세</td>\n",
       "      <td>1000</td>\n",
       "      <td>40</td>\n",
       "      <td>33.06</td>\n",
       "      <td>경상남도 창원시 의창구 사림동</td>\n",
       "      <td>1</td>\n",
       "    </tr>\n",
       "    <tr>\n",
       "      <th>203</th>\n",
       "      <td>32866635</td>\n",
       "      <td>월세</td>\n",
       "      <td>200</td>\n",
       "      <td>26</td>\n",
       "      <td>29.75</td>\n",
       "      <td>경상남도 창원시 의창구 사림동</td>\n",
       "      <td>1</td>\n",
       "    </tr>\n",
       "    <tr>\n",
       "      <th>204</th>\n",
       "      <td>32749391</td>\n",
       "      <td>월세</td>\n",
       "      <td>500</td>\n",
       "      <td>29</td>\n",
       "      <td>29.75</td>\n",
       "      <td>경상남도 창원시 의창구 사림동</td>\n",
       "      <td>1</td>\n",
       "    </tr>\n",
       "    <tr>\n",
       "      <th>205</th>\n",
       "      <td>32763950</td>\n",
       "      <td>월세</td>\n",
       "      <td>500</td>\n",
       "      <td>30</td>\n",
       "      <td>33.06</td>\n",
       "      <td>경상남도 창원시 의창구 사림동</td>\n",
       "      <td>1</td>\n",
       "    </tr>\n",
       "    <tr>\n",
       "      <th>206</th>\n",
       "      <td>32810250</td>\n",
       "      <td>월세</td>\n",
       "      <td>500</td>\n",
       "      <td>30</td>\n",
       "      <td>33.06</td>\n",
       "      <td>경상남도 창원시 의창구 사림동</td>\n",
       "      <td>1</td>\n",
       "    </tr>\n",
       "  </tbody>\n",
       "</table>\n",
       "<p>207 rows × 7 columns</p>\n",
       "</div>"
      ],
      "text/plain": [
       "      item_id sales_type  deposit  rent  size_m2          address1 manage_cost\n",
       "0    32598318         월세      300    40    29.75  경상남도 창원시 성산구 가음동           0\n",
       "1    32773496         월세      300    35    29.75  경상남도 창원시 성산구 가음동           2\n",
       "2    32483503         월세      300    30    33.06  경상남도 창원시 성산구 가음동           1\n",
       "3    32535077         월세      300    25    23.14  경상남도 창원시 성산구 남양동           1\n",
       "4    32535095         월세      300    27    26.45  경상남도 창원시 성산구 남양동           1\n",
       "..        ...        ...      ...   ...      ...               ...         ...\n",
       "202  32813383         월세     1000    40    33.06  경상남도 창원시 의창구 사림동           1\n",
       "203  32866635         월세      200    26    29.75  경상남도 창원시 의창구 사림동           1\n",
       "204  32749391         월세      500    29    29.75  경상남도 창원시 의창구 사림동           1\n",
       "205  32763950         월세      500    30    33.06  경상남도 창원시 의창구 사림동           1\n",
       "206  32810250         월세      500    30    33.06  경상남도 창원시 의창구 사림동           1\n",
       "\n",
       "[207 rows x 7 columns]"
      ]
     },
     "execution_count": 33,
     "metadata": {},
     "output_type": "execute_result"
    }
   ],
   "source": [
    "items = response.json()['items']\n",
    "columns = ['item_id', 'sales_type','deposit','rent','size_m2','address1','manage_cost']\n",
    "items[:2]\n",
    "df = pd.DataFrame(items)\n",
    "df[columns]"
   ]
  },
  {
   "cell_type": "code",
   "execution_count": 34,
   "id": "9bb94883-aa7f-4e5c-a618-33f199fc8939",
   "metadata": {},
   "outputs": [
    {
     "data": {
      "text/plain": [
       "(50, 60)"
      ]
     },
     "execution_count": 34,
     "metadata": {},
     "output_type": "execute_result"
    }
   ],
   "source": [
    "#max row, max column 설정\n",
    "pd.options.display.max_columns,pd.options.display.max_rows"
   ]
  },
  {
   "cell_type": "code",
   "execution_count": 35,
   "id": "a1694071-e82b-48d9-94f9-d0f251f8add3",
   "metadata": {},
   "outputs": [],
   "source": [
    "# 함수 만들기\n",
    "def oneroom(addr):\n",
    "    # 1.해당 지역의 좌표 값을 얻는다.\n",
    "    url = f\"https://apis.zigbang.com/v2/search?leaseYn=N&q={addr}&serviceType=원룸\"\n",
    "    response = requests.get(url)\n",
    "    data = response.json()['items'][0]\n",
    "    lat, lng = data['lat'], data['lng']\n",
    "    \n",
    "    # 2. 좌표를 geohash로 뱐환 한다.\n",
    "    geohash = geohash2.encode(lat, lng, precision=5)\n",
    "    \n",
    "    # 3. geohash 값으로 매물 ID를 얻는다.\n",
    "    url = f\"https://apis.zigbang.com/v2/items?deposit_gteq=0&domain=zigbang\\\n",
    "&geohash={geohash}&needHasNoFiltered=true&rent_gteq=0&sales_type_in=전세|월세&service_type_eq=원룸\"\n",
    "    response = requests.get(url)\n",
    "    items = response.json()['items']\n",
    "    ids = [items['item_id'] for items in items]\n",
    "    \n",
    "    # 4. 매물 ID로 매물 정보를 얻는다\n",
    "    url = \"https://apis.zigbang.com/v2/items/list\"\n",
    "    params = {\n",
    "        \"domain\" : \"zigbang\",\n",
    "        \"withCoalition\" : \"true\",\n",
    "        \"item_ids\" : ids[:900] \n",
    "    }\n",
    "\n",
    "    response = requests.post(url,params)\n",
    "    items = response.json()['items']\n",
    "    \n",
    "    #5.필요한 컬럼만 추가하여 DataFrame을 만든다.\n",
    "    columns = ['item_id', 'sales_type','deposit','rent','size_m2','address1','manage_cost']\n",
    "    \n",
    "    return pd.DataFrame(items)[columns]\n",
    "    \n",
    "    \n",
    "    \n",
    "    "
   ]
  },
  {
   "cell_type": "code",
   "execution_count": 37,
   "id": "d673c005-0a86-4ac1-8709-b527e1efa383",
   "metadata": {},
   "outputs": [
    {
     "data": {
      "text/html": [
       "<div>\n",
       "<style scoped>\n",
       "    .dataframe tbody tr th:only-of-type {\n",
       "        vertical-align: middle;\n",
       "    }\n",
       "\n",
       "    .dataframe tbody tr th {\n",
       "        vertical-align: top;\n",
       "    }\n",
       "\n",
       "    .dataframe thead th {\n",
       "        text-align: right;\n",
       "    }\n",
       "</style>\n",
       "<table border=\"1\" class=\"dataframe\">\n",
       "  <thead>\n",
       "    <tr style=\"text-align: right;\">\n",
       "      <th></th>\n",
       "      <th>item_id</th>\n",
       "      <th>sales_type</th>\n",
       "      <th>deposit</th>\n",
       "      <th>rent</th>\n",
       "      <th>size_m2</th>\n",
       "      <th>address1</th>\n",
       "      <th>manage_cost</th>\n",
       "    </tr>\n",
       "  </thead>\n",
       "  <tbody>\n",
       "    <tr>\n",
       "      <th>0</th>\n",
       "      <td>32662713</td>\n",
       "      <td>전세</td>\n",
       "      <td>17700</td>\n",
       "      <td>0</td>\n",
       "      <td>39.67</td>\n",
       "      <td>서울시 마포구 합정동</td>\n",
       "      <td>0</td>\n",
       "    </tr>\n",
       "    <tr>\n",
       "      <th>1</th>\n",
       "      <td>32668759</td>\n",
       "      <td>전세</td>\n",
       "      <td>17700</td>\n",
       "      <td>0</td>\n",
       "      <td>39.67</td>\n",
       "      <td>서울시 마포구 합정동</td>\n",
       "      <td>0</td>\n",
       "    </tr>\n",
       "    <tr>\n",
       "      <th>2</th>\n",
       "      <td>32726690</td>\n",
       "      <td>전세</td>\n",
       "      <td>19900</td>\n",
       "      <td>0</td>\n",
       "      <td>36.28</td>\n",
       "      <td>서울시 마포구 합정동</td>\n",
       "      <td>0</td>\n",
       "    </tr>\n",
       "    <tr>\n",
       "      <th>3</th>\n",
       "      <td>32542700</td>\n",
       "      <td>월세</td>\n",
       "      <td>1500</td>\n",
       "      <td>95</td>\n",
       "      <td>49.59</td>\n",
       "      <td>서울시 마포구 합정동</td>\n",
       "      <td>7</td>\n",
       "    </tr>\n",
       "    <tr>\n",
       "      <th>4</th>\n",
       "      <td>32513282</td>\n",
       "      <td>전세</td>\n",
       "      <td>5000</td>\n",
       "      <td>0</td>\n",
       "      <td>23.14</td>\n",
       "      <td>서울시 마포구 합정동</td>\n",
       "      <td>5</td>\n",
       "    </tr>\n",
       "    <tr>\n",
       "      <th>...</th>\n",
       "      <td>...</td>\n",
       "      <td>...</td>\n",
       "      <td>...</td>\n",
       "      <td>...</td>\n",
       "      <td>...</td>\n",
       "      <td>...</td>\n",
       "      <td>...</td>\n",
       "    </tr>\n",
       "    <tr>\n",
       "      <th>95</th>\n",
       "      <td>32794268</td>\n",
       "      <td>월세</td>\n",
       "      <td>1000</td>\n",
       "      <td>90</td>\n",
       "      <td>59.50</td>\n",
       "      <td>서울시 마포구 합정동</td>\n",
       "      <td>2</td>\n",
       "    </tr>\n",
       "    <tr>\n",
       "      <th>96</th>\n",
       "      <td>32794303</td>\n",
       "      <td>월세</td>\n",
       "      <td>3000</td>\n",
       "      <td>80</td>\n",
       "      <td>59.50</td>\n",
       "      <td>서울시 마포구 합정동</td>\n",
       "      <td>2</td>\n",
       "    </tr>\n",
       "    <tr>\n",
       "      <th>97</th>\n",
       "      <td>32804404</td>\n",
       "      <td>월세</td>\n",
       "      <td>2000</td>\n",
       "      <td>85</td>\n",
       "      <td>61.24</td>\n",
       "      <td>서울시 마포구 합정동</td>\n",
       "      <td>2</td>\n",
       "    </tr>\n",
       "    <tr>\n",
       "      <th>98</th>\n",
       "      <td>32812101</td>\n",
       "      <td>월세</td>\n",
       "      <td>3000</td>\n",
       "      <td>80</td>\n",
       "      <td>61.24</td>\n",
       "      <td>서울시 마포구 합정동</td>\n",
       "      <td>2</td>\n",
       "    </tr>\n",
       "    <tr>\n",
       "      <th>99</th>\n",
       "      <td>32836233</td>\n",
       "      <td>월세</td>\n",
       "      <td>1000</td>\n",
       "      <td>45</td>\n",
       "      <td>13.95</td>\n",
       "      <td>서울시 마포구 합정동</td>\n",
       "      <td>5</td>\n",
       "    </tr>\n",
       "  </tbody>\n",
       "</table>\n",
       "<p>100 rows × 7 columns</p>\n",
       "</div>"
      ],
      "text/plain": [
       "     item_id sales_type  deposit  rent  size_m2     address1 manage_cost\n",
       "0   32662713         전세    17700     0    39.67  서울시 마포구 합정동           0\n",
       "1   32668759         전세    17700     0    39.67  서울시 마포구 합정동           0\n",
       "2   32726690         전세    19900     0    36.28  서울시 마포구 합정동           0\n",
       "3   32542700         월세     1500    95    49.59  서울시 마포구 합정동           7\n",
       "4   32513282         전세     5000     0    23.14  서울시 마포구 합정동           5\n",
       "..       ...        ...      ...   ...      ...          ...         ...\n",
       "95  32794268         월세     1000    90    59.50  서울시 마포구 합정동           2\n",
       "96  32794303         월세     3000    80    59.50  서울시 마포구 합정동           2\n",
       "97  32804404         월세     2000    85    61.24  서울시 마포구 합정동           2\n",
       "98  32812101         월세     3000    80    61.24  서울시 마포구 합정동           2\n",
       "99  32836233         월세     1000    45    13.95  서울시 마포구 합정동           5\n",
       "\n",
       "[100 rows x 7 columns]"
      ]
     },
     "execution_count": 37,
     "metadata": {},
     "output_type": "execute_result"
    }
   ],
   "source": [
    "addr = \"마포구 합정동\"\n",
    "df = oneroom(addr)\n",
    "df_filtered = df[df['address1'].str.contains(addr)].reset_index(drop=True)\n",
    "df_filtered"
   ]
  },
  {
   "cell_type": "code",
   "execution_count": 43,
   "id": "9be74690-41f7-49ae-a574-1c0f20e2d6ed",
   "metadata": {},
   "outputs": [
    {
     "name": "stderr",
     "output_type": "stream",
     "text": [
      "UsageError: Line magic function `%%writefile` not found.\n"
     ]
    }
   ],
   "source": [
    "# 모듈 파일 만들기 : .py"
   ]
  },
  {
   "cell_type": "code",
   "execution_count": 44,
   "id": "48838e79-f3bb-4269-9aa7-5ea0fb345b36",
   "metadata": {},
   "outputs": [
    {
     "name": "stdout",
     "output_type": "stream",
     "text": [
      "Writing zigbang.py\n"
     ]
    }
   ],
   "source": [
    "%%writefile zigbang.py\n",
    "import requests\n",
    "import pandas as pd\n",
    "import geohash2\n",
    "\n",
    "def oneroom(addr):\n",
    "    # 1.해당 지역의 좌표 값을 얻는다.\n",
    "    url = f\"https://apis.zigbang.com/v2/search?leaseYn=N&q={addr}&serviceType=원룸\"\n",
    "    response = requests.get(url)\n",
    "    data = response.json()['items'][0]\n",
    "    lat, lng = data['lat'], data['lng']\n",
    "    \n",
    "    # 2. 좌표를 geohash로 뱐환 한다.\n",
    "    geohash = geohash2.encode(lat, lng, precision=5)\n",
    "    \n",
    "    # 3. geohash 값으로 매물 ID를 얻는다.\n",
    "    url = f\"https://apis.zigbang.com/v2/items?deposit_gteq=0&domain=zigbang\\\n",
    "&geohash={geohash}&needHasNoFiltered=true&rent_gteq=0&sales_type_in=전세|월세&service_type_eq=원룸\"\n",
    "    response = requests.get(url)\n",
    "    items = response.json()['items']\n",
    "    ids = [items['item_id'] for items in items]\n",
    "    \n",
    "    # 4. 매물 ID로 매물 정보를 얻는다\n",
    "    url = \"https://apis.zigbang.com/v2/items/list\"\n",
    "    params = {\n",
    "        \"domain\" : \"zigbang\",\n",
    "        \"withCoalition\" : \"true\",\n",
    "        \"item_ids\" : ids[:900] \n",
    "    }\n",
    "\n",
    "    response = requests.post(url,params)\n",
    "    items = response.json()['items']\n",
    "    \n",
    "    #5.필요한 컬럼만 추가하여 DataFrame을 만든다.\n",
    "    columns = ['item_id', 'sales_type','deposit','rent','size_m2','address1','manage_cost']\n",
    "    \n",
    "    return pd.DataFrame(items)[columns]"
   ]
  },
  {
   "cell_type": "code",
   "execution_count": 45,
   "id": "8455b2de-786c-48a1-9ae4-ac30d253a5c8",
   "metadata": {},
   "outputs": [
    {
     "name": "stdout",
     "output_type": "stream",
     "text": [
      "Variable      Type         Data/Info\n",
      "------------------------------------\n",
      "addr          str          마포구 합정동\n",
      "columns       list         n=7\n",
      "data          dict         n=13\n",
      "df            DataFrame          item_id sales_type <...>n\\n[744 rows x 7 columns]\n",
      "df_filtered   DataFrame         item_id sales_type  <...>n\\n[100 rows x 7 columns]\n",
      "geohash       str          wy782\n",
      "geohash2      module       <module 'geohash2' from '<...>\\\\geohash2\\\\__init__.py'>\n",
      "ids           list         n=207\n",
      "items         list         n=207\n",
      "lat           float        35.21626663208008\n",
      "lng           float        128.6872100830078\n",
      "oneroom       function     <function oneroom at 0x000001F9848A7820>\n",
      "params        dict         n=3\n",
      "pd            module       <module 'pandas' from 'C:<...>es\\\\pandas\\\\__init__.py'>\n",
      "requests      module       <module 'requests' from '<...>\\\\requests\\\\__init__.py'>\n",
      "response      Response     <Response [200]>\n",
      "url           str          https://apis.zigbang.com/v2/items/list\n"
     ]
    }
   ],
   "source": [
    "%whos"
   ]
  },
  {
   "cell_type": "code",
   "execution_count": null,
   "id": "41067e6e-0317-4fa7-8fba-ee0c405cd78c",
   "metadata": {},
   "outputs": [],
   "source": [
    "%reset"
   ]
  }
 ],
 "metadata": {
  "kernelspec": {
   "display_name": "Python 3",
   "language": "python",
   "name": "python3"
  },
  "language_info": {
   "codemirror_mode": {
    "name": "ipython",
    "version": 3
   },
   "file_extension": ".py",
   "mimetype": "text/x-python",
   "name": "python",
   "nbconvert_exporter": "python",
   "pygments_lexer": "ipython3",
   "version": "3.8.8"
  }
 },
 "nbformat": 4,
 "nbformat_minor": 5
}
