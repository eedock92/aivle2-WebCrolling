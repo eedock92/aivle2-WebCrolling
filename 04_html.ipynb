{
 "cells": [
  {
   "cell_type": "markdown",
   "id": "84d9be6e-dc18-4586-97e0-2803d0dfbefc",
   "metadata": {},
   "source": [
    "### html\n",
    "- 웹문서를 작성하는 언어\n",
    "- 구성요서\n",
    "    - Document : 한페이지를 나타내는 코드\n",
    "    - Element : 하나의 레이아웃 : Element가 모여서 Document를 만듬\n",
    "    - Tag : Element의 종류를 정의 : 시작태그 + 끝 태그 = Element\n",
    "    - Attribute : 속성값 : 시작 태그에서 태그의 기능 정의\n",
    "            - id : element를 지정하는 페이지 내에서 유일한 값\n",
    "            - class : element를 지정하는 페이지 내에서 여러개 사용 가능\n",
    "            - attr : id, class 를 제외한 나머지 문자열\n",
    "    - 엘리먼트는 계층적 구조를 갖습니다."
   ]
  },
  {
   "cell_type": "code",
   "execution_count": 1,
   "id": "d7436cde-e283-4619-8115-41a7f84ca5c1",
   "metadata": {},
   "outputs": [
    {
     "data": {
      "text/html": [
       "<div class=\"wrapper\">\n",
       "    <button id = \"1\" class=\"btn no1\" value=\"1\">HTML 1 </button>\n",
       "    <button id = \"2\" class=\"btn no2\" value=\"2\">HTML 2</button>\n",
       "</div>\n"
      ],
      "text/plain": [
       "<IPython.core.display.HTML object>"
      ]
     },
     "metadata": {},
     "output_type": "display_data"
    }
   ],
   "source": [
    "%%html\n",
    "<div class=\"wrapper\">\n",
    "    <button id = \"1\" class=\"btn no1\" value=\"1\">HTML 1 </button>\n",
    "    <button id = \"2\" class=\"btn no2\" value=\"2\">HTML 2</button>\n",
    "</div>"
   ]
  },
  {
   "cell_type": "code",
   "execution_count": null,
   "id": "c184ae56-6a2c-4d07-abe5-f31f27485683",
   "metadata": {},
   "outputs": [],
   "source": [
    "# p : 한줄의 문자열 출력"
   ]
  },
  {
   "cell_type": "code",
   "execution_count": 8,
   "id": "1fa536da-e398-47e7-8bc9-97bf6b27a5f1",
   "metadata": {},
   "outputs": [
    {
     "data": {
      "text/html": [
       "<p>python 1</p>\n",
       "<p>python 2</p>\n"
      ],
      "text/plain": [
       "<IPython.core.display.HTML object>"
      ]
     },
     "metadata": {},
     "output_type": "display_data"
    }
   ],
   "source": [
    "%%html\n",
    "<p>python 1</p>\n",
    "<p>python 2</p>"
   ]
  },
  {
   "cell_type": "code",
   "execution_count": 6,
   "id": "f393adee-18d9-45e0-9edf-bf9cf7f7d21c",
   "metadata": {},
   "outputs": [
    {
     "data": {
      "text/html": [
       "<span>python 1</span>\n",
       "<span>python 2</span>\n",
       "# span : 한블럭의 문자열 출력\n"
      ],
      "text/plain": [
       "<IPython.core.display.HTML object>"
      ]
     },
     "metadata": {},
     "output_type": "display_data"
    }
   ],
   "source": [
    "# span : 한블럭의 문자열 출력"
   ]
  },
  {
   "cell_type": "code",
   "execution_count": 7,
   "id": "7f5c43a3-b521-4c6f-bd46-9d1c7111bab4",
   "metadata": {},
   "outputs": [
    {
     "data": {
      "text/html": [
       "<span>python 1</span>\n",
       "<span>python 2</span>\n"
      ],
      "text/plain": [
       "<IPython.core.display.HTML object>"
      ]
     },
     "metadata": {},
     "output_type": "display_data"
    }
   ],
   "source": [
    "%%html\n",
    "<span>python 1</span>\n",
    "<span>python 2</span>"
   ]
  },
  {
   "cell_type": "code",
   "execution_count": null,
   "id": "bf763794-7eb9-4f2a-9fb2-152d3ceedab3",
   "metadata": {},
   "outputs": [],
   "source": [
    "# ul, li : 리스트 문자열 출력"
   ]
  },
  {
   "cell_type": "code",
   "execution_count": 9,
   "id": "83f9ad24-c944-4e9c-ac55-583e309a6e19",
   "metadata": {},
   "outputs": [
    {
     "data": {
      "text/html": [
       "<ul>\n",
       "    <li>python 1</li>\n",
       "     <li>python 2</li>\n",
       "</ul>\n"
      ],
      "text/plain": [
       "<IPython.core.display.HTML object>"
      ]
     },
     "metadata": {},
     "output_type": "display_data"
    }
   ],
   "source": [
    "%%html\n",
    "<ul>\n",
    "    <li>python 1</li>\n",
    "     <li>python 2</li>\n",
    "</ul>"
   ]
  },
  {
   "cell_type": "code",
   "execution_count": null,
   "id": "f9d0fbda-71de-4bc3-a441-5a248f9bbcd1",
   "metadata": {},
   "outputs": [],
   "source": [
    "# a : 링크를 나타내는 태그"
   ]
  },
  {
   "cell_type": "code",
   "execution_count": 10,
   "id": "d8acf564-7cc6-4c24-8b37-d32e58ba6433",
   "metadata": {},
   "outputs": [
    {
     "data": {
      "text/html": [
       "<a href=\"https://kt.com\">Click</a>\n"
      ],
      "text/plain": [
       "<IPython.core.display.HTML object>"
      ]
     },
     "metadata": {},
     "output_type": "display_data"
    }
   ],
   "source": [
    "%%html\n",
    "<a href=\"https://kt.com\">Click</a>"
   ]
  },
  {
   "cell_type": "code",
   "execution_count": null,
   "id": "ea0bd844-8d9a-47e9-9006-ce527f585308",
   "metadata": {},
   "outputs": [],
   "source": [
    "# img : 이미지를 출력하는 태그"
   ]
  },
  {
   "cell_type": "code",
   "execution_count": 12,
   "id": "98a16db9-7835-49a6-866d-dce5ca189ab6",
   "metadata": {},
   "outputs": [
    {
     "data": {
      "text/html": [
       "<img src=\"https://cfm.kt.com/images/v2/layout/gnb-ktlogo.png\">\n"
      ],
      "text/plain": [
       "<IPython.core.display.HTML object>"
      ]
     },
     "metadata": {},
     "output_type": "display_data"
    }
   ],
   "source": [
    "%%html\n",
    "<img src=\"https://cfm.kt.com/images/v2/layout/gnb-ktlogo.png\">"
   ]
  },
  {
   "cell_type": "code",
   "execution_count": null,
   "id": "0a3d0ba1-93be-4305-8341-2a71d10ca5a8",
   "metadata": {},
   "outputs": [],
   "source": [
    "# ifram : 외부 URL 링크에 해당하는 웹페이지를 출력"
   ]
  },
  {
   "cell_type": "code",
   "execution_count": 14,
   "id": "93208310-5f48-4ec2-ae7f-b8de54f7ae6b",
   "metadata": {},
   "outputs": [
    {
     "data": {
      "text/html": [
       "<iframe src=\"https://kt.com\" width=\"100%\" height=\"100px\">\n"
      ],
      "text/plain": [
       "<IPython.core.display.HTML object>"
      ]
     },
     "metadata": {},
     "output_type": "display_data"
    }
   ],
   "source": [
    "%%html\n",
    "<iframe src=\"https://kt.com\" width=\"100%\" height=\"100px\">"
   ]
  },
  {
   "cell_type": "code",
   "execution_count": 15,
   "id": "d99f4dae-2048-4a4e-a020-796808950a8c",
   "metadata": {},
   "outputs": [
    {
     "data": {
      "text/html": [
       "<div>\n",
       "    <p>python1</p>\n",
       "    <p>python2</p>\n",
       "</div>\n",
       "<div>\n",
       "    <p>python3</p>\n",
       "</div>\n"
      ],
      "text/plain": [
       "<IPython.core.display.HTML object>"
      ]
     },
     "metadata": {},
     "output_type": "display_data"
    }
   ],
   "source": [
    "%%html\n",
    "<div>\n",
    "    <p>python1</p>\n",
    "    <p>python2</p>\n",
    "</div>\n",
    "<div>\n",
    "    <p>python3</p>\n",
    "</div>"
   ]
  },
  {
   "cell_type": "code",
   "execution_count": null,
   "id": "5ecdc621-d3dc-4532-87e5-1cfe88443afe",
   "metadata": {},
   "outputs": [],
   "source": [
    "# table : 행열 데이터를 출력"
   ]
  },
  {
   "cell_type": "code",
   "execution_count": 17,
   "id": "607a50b2-e13a-48c4-9d20-605b2849c675",
   "metadata": {},
   "outputs": [
    {
     "data": {
      "text/html": [
       "<table>\n",
       "    <caption>제목</caption>\n",
       "    <thead>\n",
       "        <tr>\n",
       "            <th> column 1 </th>\n",
       "            <th> column 2 </th>\n",
       "        </tr>\n",
       "    </thead>\n",
       "    <tbody>\n",
       "         <tr>\n",
       "            <td> data 1 </td>\n",
       "            <td> data 2 </td>\n",
       "        </tr>\n",
       "         <tr>\n",
       "            <td> data 1 </td>\n",
       "            <td> data 2 </td>\n",
       "        </tr>\n",
       "    </tbody>\n",
       "</table>\n"
      ],
      "text/plain": [
       "<IPython.core.display.HTML object>"
      ]
     },
     "metadata": {},
     "output_type": "display_data"
    }
   ],
   "source": [
    "%%html\n",
    "<table>\n",
    "    <caption>제목</caption>\n",
    "    <thead>\n",
    "        <tr>\n",
    "            <th> column 1 </th>\n",
    "            <th> column 2 </th>\n",
    "        </tr>\n",
    "    </thead>\n",
    "    <tbody>\n",
    "         <tr>\n",
    "            <td> data 1 </td>\n",
    "            <td> data 2 </td>\n",
    "        </tr>\n",
    "         <tr>\n",
    "            <td> data 1 </td>\n",
    "            <td> data 2 </td>\n",
    "        </tr>\n",
    "    </tbody>\n",
    "</table>"
   ]
  },
  {
   "cell_type": "code",
   "execution_count": null,
   "id": "c2cbcac5-9440-4534-80d5-aff1641f6d80",
   "metadata": {},
   "outputs": [],
   "source": [
    "# 부동소수점 에러"
   ]
  },
  {
   "cell_type": "code",
   "execution_count": 18,
   "id": "3b12ab5d-a32c-4438-904d-b25c148c1913",
   "metadata": {},
   "outputs": [],
   "source": [
    "data1, data2 = 0.1, 0.2"
   ]
  },
  {
   "cell_type": "code",
   "execution_count": 19,
   "id": "851107f3-ed20-4310-b9c1-2f1833dc9f0a",
   "metadata": {},
   "outputs": [
    {
     "data": {
      "text/plain": [
       "0.30000000000000004"
      ]
     },
     "execution_count": 19,
     "metadata": {},
     "output_type": "execute_result"
    }
   ],
   "source": [
    "data1 + data2 "
   ]
  },
  {
   "cell_type": "code",
   "execution_count": 20,
   "id": "7a27b030-092e-4e21-8089-f106fd9a3628",
   "metadata": {},
   "outputs": [
    {
     "data": {
      "text/plain": [
       "0.3"
      ]
     },
     "execution_count": 20,
     "metadata": {},
     "output_type": "execute_result"
    }
   ],
   "source": [
    "# 해결 방법 1 : 반올림 사용 : round\n",
    "round(data1 + data2,1)"
   ]
  },
  {
   "cell_type": "code",
   "execution_count": 23,
   "id": "68f95f20-8f4e-4225-ac18-0a5fb902abf8",
   "metadata": {},
   "outputs": [
    {
     "data": {
      "text/plain": [
       "0.3"
      ]
     },
     "execution_count": 23,
     "metadata": {},
     "output_type": "execute_result"
    }
   ],
   "source": [
    "# 해결 방법 2 : 고정 소수점 방식으로 연산\n",
    "from decimal import Decimal\n",
    "float(Decimal(str(data1)) + Decimal(str(data2)))"
   ]
  },
  {
   "cell_type": "code",
   "execution_count": null,
   "id": "a5c607db-5722-490f-9d3e-2feb26865260",
   "metadata": {},
   "outputs": [],
   "source": []
  }
 ],
 "metadata": {
  "kernelspec": {
   "display_name": "Python 3",
   "language": "python",
   "name": "python3"
  },
  "language_info": {
   "codemirror_mode": {
    "name": "ipython",
    "version": 3
   },
   "file_extension": ".py",
   "mimetype": "text/x-python",
   "name": "python",
   "nbconvert_exporter": "python",
   "pygments_lexer": "ipython3",
   "version": "3.8.8"
  }
 },
 "nbformat": 4,
 "nbformat_minor": 5
}
