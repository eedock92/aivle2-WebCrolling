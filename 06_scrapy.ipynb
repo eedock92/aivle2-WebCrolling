{
 "cells": [
  {
   "cell_type": "code",
   "execution_count": null,
   "id": "cc0f0a23-f910-45e0-b179-5f0b1289e2f8",
   "metadata": {},
   "outputs": [],
   "source": [
    "#Scrapy    \n",
    "- 비동기 방식으로 데이터 수집 => 데이터 수집 속도가 빠름"
   ]
  },
  {
   "cell_type": "code",
   "execution_count": 5,
   "id": "413ab2e1-d957-4278-a959-988b076122e2",
   "metadata": {},
   "outputs": [],
   "source": [
    "import scrapy, requests\n",
    "from scrapy.http import TextResponse"
   ]
  },
  {
   "cell_type": "code",
   "execution_count": null,
   "id": "67c4650d-3660-4154-9bd1-1acb0409d4d8",
   "metadata": {},
   "outputs": [],
   "source": [
    "# Gmarket 베스트 200 상품 데이터 수집"
   ]
  },
  {
   "cell_type": "code",
   "execution_count": null,
   "id": "f1d41205-7c2c-4b1f-9bf2-2f49db13ae69",
   "metadata": {},
   "outputs": [],
   "source": [
    "# 1. 스크래피 프로젝트 생성"
   ]
  },
  {
   "cell_type": "code",
   "execution_count": 1,
   "id": "e87cad92-d389-48a8-9f32-f27d1ecbeee8",
   "metadata": {
    "collapsed": true,
    "jupyter": {
     "outputs_hidden": true
    },
    "tags": []
   },
   "outputs": [
    {
     "name": "stdout",
     "output_type": "stream",
     "text": [
      "New Scrapy project 'gmarket', using template directory 'c:\\users\\user\\anaconda3\\lib\\site-packages\\scrapy\\templates\\project', created in:\n",
      "    C:\\Users\\User\\Desktop\\김병수\\22.08.03-웹 크롤링\\code\\gmarket\n",
      "\n",
      "You can start your first spider with:\n",
      "    cd gmarket\n",
      "    scrapy genspider example example.com\n"
     ]
    }
   ],
   "source": [
    "!scrapy startproject gmarket"
   ]
  },
  {
   "cell_type": "code",
   "execution_count": 2,
   "id": "2f74e0ad-a22b-4e19-a1c3-ec21fc1149a1",
   "metadata": {
    "collapsed": true,
    "jupyter": {
     "outputs_hidden": true
    },
    "tags": []
   },
   "outputs": [
    {
     "name": "stdout",
     "output_type": "stream",
     "text": [
      "폴더 PATH의 목록입니다.\n",
      "볼륨 일련 번호가 00000085 7C6C:FC35입니다.\n",
      "C:\\USERS\\USER\\DESKTOP\\김병수\\22.08.03-웹 크롤링\\CODE\\GMARKET\n",
      "│  scrapy.cfg\n",
      "│  \n",
      "└─gmarket\n",
      "    │  items.py\n",
      "    │  middlewares.py\n",
      "    │  pipelines.py\n",
      "    │  settings.py\n",
      "    │  __init__.py\n",
      "    │  \n",
      "    └─spiders\n",
      "            __init__.py\n",
      "            \n"
     ]
    }
   ],
   "source": [
    "!tree gmarket /f"
   ]
  },
  {
   "cell_type": "code",
   "execution_count": null,
   "id": "8287b775-8b32-485f-883a-7a5ab5dbcda8",
   "metadata": {},
   "outputs": [],
   "source": [
    "# items.py : 수집할 데이터의 구조 정의\n",
    "# middlewares.py : 데이터를 수집할 때 headers 정보와 같은 내용을 설정\n",
    "# pipelines.py : 데이터를 수집한 후에 코드 실행 정의\n",
    "# settings.py : 크롤링 설정 : 크롤링 시간 텀, robots.txt 규칙\n",
    "# spiders : 디렉터리 : 크롤링 절차 정의"
   ]
  },
  {
   "cell_type": "code",
   "execution_count": null,
   "id": "f79f282c-e516-466b-8436-d92495fd30ac",
   "metadata": {},
   "outputs": [],
   "source": [
    "# 2. xpath 찾기 : 링크, 상세 페이지의 데이터 "
   ]
  },
  {
   "cell_type": "code",
   "execution_count": null,
   "id": "b02bb0cf-0655-4001-92c9-59a804283d43",
   "metadata": {},
   "outputs": [],
   "source": [
    "# 링크 데이터 수집"
   ]
  },
  {
   "cell_type": "code",
   "execution_count": 6,
   "id": "7f1c6f93-97b2-4720-88ad-17ba67e9b36c",
   "metadata": {},
   "outputs": [],
   "source": [
    "request = requests.get(\"http://corners.gmarket.co.kr/Bestsellers\")\n",
    "response = TextResponse(request.url, body=request.text, encoding=\"utf-8\")"
   ]
  },
  {
   "cell_type": "code",
   "execution_count": 12,
   "id": "f25fca50-cec1-4ae4-9b85-d8205db15d13",
   "metadata": {},
   "outputs": [
    {
     "data": {
      "text/plain": [
       "['http://item.gmarket.co.kr/Item?goodscode=2519604129&ver=637953128385796138',\n",
       " 'http://item.gmarket.co.kr/Item?goodscode=2520466046&ver=637953128385796138']"
      ]
     },
     "execution_count": 12,
     "metadata": {},
     "output_type": "execute_result"
    }
   ],
   "source": [
    "links = response.xpath('//*[@id=\"gBestWrap\"]/div/div[3]/div/ul/li/a/@href').extract()\n",
    "links[:2]"
   ]
  },
  {
   "cell_type": "code",
   "execution_count": null,
   "id": "200b708c-ae6a-4364-a1a5-4d03b33609ec",
   "metadata": {},
   "outputs": [],
   "source": [
    "# 상세 페이지 데이터 수집"
   ]
  },
  {
   "cell_type": "code",
   "execution_count": 13,
   "id": "0ef43172-5486-4d90-8170-1e2a16ff7e4c",
   "metadata": {},
   "outputs": [],
   "source": [
    "link = links[0]\n",
    "request = requests.get(link)\n",
    "response = TextResponse(request.url, body=request.text, encoding=\"utf-8\")"
   ]
  },
  {
   "cell_type": "code",
   "execution_count": 14,
   "id": "e6284429-b081-496e-8274-d5e9020c192b",
   "metadata": {},
   "outputs": [
    {
     "data": {
      "text/plain": [
       "('브라운 면도기 세정액 CCR5+1 ', '25,030')"
      ]
     },
     "execution_count": 14,
     "metadata": {},
     "output_type": "execute_result"
    }
   ],
   "source": [
    "title = response.xpath('//*[@id=\"itemcase_basic\"]/div/h1/text()')[0].extract()\n",
    "price = response.xpath('//*[@id=\"itemcase_basic\"]/div/p/span/strong/text()')[0].extract()\n",
    "title, price"
   ]
  },
  {
   "cell_type": "code",
   "execution_count": null,
   "id": "703484ee-8eac-4b60-8563-7b95cc961e67",
   "metadata": {},
   "outputs": [],
   "source": [
    "# 3. item.py : 코드 작성 : model(데이터의 구조 : 수집할 데이터의 컬럼의 정의)"
   ]
  },
  {
   "cell_type": "code",
   "execution_count": 17,
   "id": "f578be74-6f4d-40d8-b2f2-60bf63c469cc",
   "metadata": {},
   "outputs": [
    {
     "name": "stdout",
     "output_type": "stream",
     "text": [
      "Overwriting gmarket/gmarket/items.py\n"
     ]
    }
   ],
   "source": [
    "%%writefile gmarket/gmarket/items.py\n",
    "import scrapy\n",
    "from gmarket.items import GmarketItem\n",
    "\n",
    "class GMSpider(scrapy.Spider):\n",
    "    name = \"GMB\"\n",
    "    allow_domain = [\"gmarket.co.kr\"]\n",
    "    start_urls = [\"http://corners.gmarket.co.kr/Bestsellers\"]\n",
    "    \n",
    "    def parse(self, response):\n",
    "        links = response.xpath('//*[@id=\"gBestWrap\"]/div/div[3]/div/ul/li/a/@href').extract()\n",
    "        for link in links[:20]:\n",
    "            yield scrapy.Request(link, callback=self.parse_content)\n",
    "    \n",
    "    def parse_content(self, response):\n",
    "        item = GmarketItem()\n",
    "        item[\"title\"] = response.xpath('//*[@id=\"itemcase_basic\"]/div[1]/h1/text()')[0].extract()\n",
    "        item[\"price\"] = response.xpath('//*[@id=\"itemcase_basic\"]/div[1]/p/span/strong/text()')[0].extract()\n",
    "        item[\"link\"] = response.url\n",
    "        yield item"
   ]
  },
  {
   "cell_type": "code",
   "execution_count": null,
   "id": "e2047ab0-3c0a-4ce0-9366-680e694eb779",
   "metadata": {},
   "outputs": [],
   "source": [
    "# 4. spider.py : 코드 작성 : 크롤링 절차 정의\n",
    "# 쥬피터 콘솔 창에서 실행해야 됨\n",
    "# gmarket 디렉터리\n",
    "# scrapy crawl GMB -o items.csv"
   ]
  },
  {
   "cell_type": "code",
   "execution_count": 33,
   "id": "ec6702d8-0530-4ef5-9f10-e5bbb4fa1c11",
   "metadata": {},
   "outputs": [
    {
     "name": "stdout",
     "output_type": "stream",
     "text": [
      "C:\\Users\\User\\Desktop\\김병수\\22.08.03-웹 크롤링\\code\\gmarket\\gmarket\n"
     ]
    }
   ],
   "source": [
    "cd gmarket"
   ]
  },
  {
   "cell_type": "code",
   "execution_count": null,
   "id": "3e824f6f-cb19-48b4-99a6-c3ceee67bbc5",
   "metadata": {},
   "outputs": [],
   "source": []
  },
  {
   "cell_type": "code",
   "execution_count": 30,
   "id": "6473ce7b-5724-4aee-a831-378a81f6bc67",
   "metadata": {},
   "outputs": [],
   "source": [
    "# 5. 스크래피 프로젝트 실행\n",
    "\n",
    "#pd.read_csv(\"gmarket/item.csv\").tail(2)"
   ]
  },
  {
   "cell_type": "code",
   "execution_count": null,
   "id": "37c52627-9274-4b66-a464-6f74eca17fe5",
   "metadata": {},
   "outputs": [],
   "source": []
  },
  {
   "cell_type": "code",
   "execution_count": null,
   "id": "b7c22061-d2f5-473b-b822-0008e668077d",
   "metadata": {},
   "outputs": [],
   "source": []
  },
  {
   "cell_type": "code",
   "execution_count": null,
   "id": "565dc2ba-f0fc-4dec-a709-ff25de5210f6",
   "metadata": {},
   "outputs": [],
   "source": []
  },
  {
   "cell_type": "code",
   "execution_count": null,
   "id": "c528bcb9-7bc6-4c5f-92fc-cba01be271ab",
   "metadata": {},
   "outputs": [],
   "source": []
  },
  {
   "cell_type": "code",
   "execution_count": null,
   "id": "bf304d90-2237-4173-a67e-26b48e87907f",
   "metadata": {},
   "outputs": [],
   "source": []
  },
  {
   "cell_type": "code",
   "execution_count": null,
   "id": "a6151d6a-3bf6-4eec-90ef-aed45cddf45a",
   "metadata": {},
   "outputs": [],
   "source": []
  }
 ],
 "metadata": {
  "kernelspec": {
   "display_name": "Python 3",
   "language": "python",
   "name": "python3"
  },
  "language_info": {
   "codemirror_mode": {
    "name": "ipython",
    "version": 3
   },
   "file_extension": ".py",
   "mimetype": "text/x-python",
   "name": "python",
   "nbconvert_exporter": "python",
   "pygments_lexer": "ipython3",
   "version": "3.8.8"
  }
 },
 "nbformat": 4,
 "nbformat_minor": 5
}
