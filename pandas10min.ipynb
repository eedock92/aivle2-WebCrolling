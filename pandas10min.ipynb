{
 "cells": [
  {
   "cell_type": "code",
   "execution_count": 2,
   "id": "22b291d6-7cfe-4aff-ab17-5e4a24c554dd",
   "metadata": {},
   "outputs": [],
   "source": [
    "import pandas as pd\n",
    "import numpy as np"
   ]
  },
  {
   "cell_type": "code",
   "execution_count": 3,
   "id": "5bddfe06-3cad-4f5d-ad90-1e459ca4c609",
   "metadata": {},
   "outputs": [],
   "source": [
    "s = pd.Series([1,3,4, np.nan,6,8])"
   ]
  },
  {
   "cell_type": "code",
   "execution_count": 4,
   "id": "8494e2f0-86e9-4a92-8013-3da0d5cf5379",
   "metadata": {},
   "outputs": [
    {
     "data": {
      "text/plain": [
       "0    1.0\n",
       "1    3.0\n",
       "2    4.0\n",
       "3    NaN\n",
       "4    6.0\n",
       "5    8.0\n",
       "dtype: float64"
      ]
     },
     "execution_count": 4,
     "metadata": {},
     "output_type": "execute_result"
    }
   ],
   "source": [
    "s"
   ]
  },
  {
   "cell_type": "code",
   "execution_count": 5,
   "id": "8ffb0947-426f-40ff-9ca5-02bd2bb87836",
   "metadata": {},
   "outputs": [],
   "source": [
    "dates = pd.date_range('20130101',periods=6)"
   ]
  },
  {
   "cell_type": "code",
   "execution_count": 6,
   "id": "cc64f33e-d1d1-423c-a14e-f39ef40ff4a7",
   "metadata": {},
   "outputs": [
    {
     "data": {
      "text/plain": [
       "DatetimeIndex(['2013-01-01', '2013-01-02', '2013-01-03', '2013-01-04',\n",
       "               '2013-01-05', '2013-01-06'],\n",
       "              dtype='datetime64[ns]', freq='D')"
      ]
     },
     "execution_count": 6,
     "metadata": {},
     "output_type": "execute_result"
    }
   ],
   "source": [
    "dates"
   ]
  },
  {
   "cell_type": "code",
   "execution_count": 7,
   "id": "06b098f4-02a9-4fdc-9a74-90c25fa8811f",
   "metadata": {},
   "outputs": [
    {
     "data": {
      "text/html": [
       "<div>\n",
       "<style scoped>\n",
       "    .dataframe tbody tr th:only-of-type {\n",
       "        vertical-align: middle;\n",
       "    }\n",
       "\n",
       "    .dataframe tbody tr th {\n",
       "        vertical-align: top;\n",
       "    }\n",
       "\n",
       "    .dataframe thead th {\n",
       "        text-align: right;\n",
       "    }\n",
       "</style>\n",
       "<table border=\"1\" class=\"dataframe\">\n",
       "  <thead>\n",
       "    <tr style=\"text-align: right;\">\n",
       "      <th></th>\n",
       "      <th>A</th>\n",
       "      <th>B</th>\n",
       "      <th>C</th>\n",
       "      <th>D</th>\n",
       "    </tr>\n",
       "  </thead>\n",
       "  <tbody>\n",
       "    <tr>\n",
       "      <th>2013-01-01</th>\n",
       "      <td>0.472246</td>\n",
       "      <td>-0.555362</td>\n",
       "      <td>-1.636960</td>\n",
       "      <td>0.287524</td>\n",
       "    </tr>\n",
       "    <tr>\n",
       "      <th>2013-01-02</th>\n",
       "      <td>-0.412438</td>\n",
       "      <td>-0.900977</td>\n",
       "      <td>-0.947121</td>\n",
       "      <td>1.597479</td>\n",
       "    </tr>\n",
       "    <tr>\n",
       "      <th>2013-01-03</th>\n",
       "      <td>-0.531105</td>\n",
       "      <td>0.493044</td>\n",
       "      <td>1.068696</td>\n",
       "      <td>-0.330102</td>\n",
       "    </tr>\n",
       "    <tr>\n",
       "      <th>2013-01-04</th>\n",
       "      <td>0.245967</td>\n",
       "      <td>-0.211568</td>\n",
       "      <td>-1.449977</td>\n",
       "      <td>1.992956</td>\n",
       "    </tr>\n",
       "    <tr>\n",
       "      <th>2013-01-05</th>\n",
       "      <td>0.477261</td>\n",
       "      <td>-0.249786</td>\n",
       "      <td>0.740129</td>\n",
       "      <td>-0.319022</td>\n",
       "    </tr>\n",
       "    <tr>\n",
       "      <th>2013-01-06</th>\n",
       "      <td>1.184756</td>\n",
       "      <td>-0.580789</td>\n",
       "      <td>-1.119511</td>\n",
       "      <td>0.489403</td>\n",
       "    </tr>\n",
       "  </tbody>\n",
       "</table>\n",
       "</div>"
      ],
      "text/plain": [
       "                   A         B         C         D\n",
       "2013-01-01  0.472246 -0.555362 -1.636960  0.287524\n",
       "2013-01-02 -0.412438 -0.900977 -0.947121  1.597479\n",
       "2013-01-03 -0.531105  0.493044  1.068696 -0.330102\n",
       "2013-01-04  0.245967 -0.211568 -1.449977  1.992956\n",
       "2013-01-05  0.477261 -0.249786  0.740129 -0.319022\n",
       "2013-01-06  1.184756 -0.580789 -1.119511  0.489403"
      ]
     },
     "execution_count": 7,
     "metadata": {},
     "output_type": "execute_result"
    }
   ],
   "source": [
    "df = pd.DataFrame(np.random.randn(6,4), index=dates, columns=list(\"ABCD\"))\n",
    "df"
   ]
  },
  {
   "cell_type": "code",
   "execution_count": 10,
   "id": "ebaf4b5d-cbad-47dd-99fd-3608ae1a27e1",
   "metadata": {},
   "outputs": [
    {
     "data": {
      "text/html": [
       "<div>\n",
       "<style scoped>\n",
       "    .dataframe tbody tr th:only-of-type {\n",
       "        vertical-align: middle;\n",
       "    }\n",
       "\n",
       "    .dataframe tbody tr th {\n",
       "        vertical-align: top;\n",
       "    }\n",
       "\n",
       "    .dataframe thead th {\n",
       "        text-align: right;\n",
       "    }\n",
       "</style>\n",
       "<table border=\"1\" class=\"dataframe\">\n",
       "  <thead>\n",
       "    <tr style=\"text-align: right;\">\n",
       "      <th></th>\n",
       "      <th>A</th>\n",
       "      <th>B</th>\n",
       "      <th>C</th>\n",
       "      <th>D</th>\n",
       "      <th>E</th>\n",
       "      <th>F</th>\n",
       "    </tr>\n",
       "  </thead>\n",
       "  <tbody>\n",
       "    <tr>\n",
       "      <th>0</th>\n",
       "      <td>1.0</td>\n",
       "      <td>2013-01-02</td>\n",
       "      <td>1.0</td>\n",
       "      <td>3</td>\n",
       "      <td>test</td>\n",
       "      <td>foo</td>\n",
       "    </tr>\n",
       "    <tr>\n",
       "      <th>1</th>\n",
       "      <td>1.0</td>\n",
       "      <td>2013-01-02</td>\n",
       "      <td>1.0</td>\n",
       "      <td>3</td>\n",
       "      <td>train</td>\n",
       "      <td>foo</td>\n",
       "    </tr>\n",
       "    <tr>\n",
       "      <th>2</th>\n",
       "      <td>1.0</td>\n",
       "      <td>2013-01-02</td>\n",
       "      <td>1.0</td>\n",
       "      <td>3</td>\n",
       "      <td>test</td>\n",
       "      <td>foo</td>\n",
       "    </tr>\n",
       "    <tr>\n",
       "      <th>3</th>\n",
       "      <td>1.0</td>\n",
       "      <td>2013-01-02</td>\n",
       "      <td>1.0</td>\n",
       "      <td>3</td>\n",
       "      <td>train</td>\n",
       "      <td>foo</td>\n",
       "    </tr>\n",
       "  </tbody>\n",
       "</table>\n",
       "</div>"
      ],
      "text/plain": [
       "     A          B    C  D      E    F\n",
       "0  1.0 2013-01-02  1.0  3   test  foo\n",
       "1  1.0 2013-01-02  1.0  3  train  foo\n",
       "2  1.0 2013-01-02  1.0  3   test  foo\n",
       "3  1.0 2013-01-02  1.0  3  train  foo"
      ]
     },
     "execution_count": 10,
     "metadata": {},
     "output_type": "execute_result"
    }
   ],
   "source": [
    "df2 = pd.DataFrame(\n",
    "    {\n",
    "        \"A\" : 1.0,\n",
    "        \"B\" : pd.Timestamp(\"20130102\"),\n",
    "        \"C\" : pd.Series(1, index=list(range(4)), dtype=\"float32\"),\n",
    "        \"D\" : np.array([3] * 4, dtype=\"int32\"),\n",
    "        \"E\" : pd.Categorical([\"test\", \"train\", \"test\", \"train\"]),\n",
    "        \"F\" : \"foo\"\n",
    "        \n",
    "    }\n",
    ")\n",
    "\n",
    "df2"
   ]
  },
  {
   "cell_type": "code",
   "execution_count": 12,
   "id": "74835c01-8857-4bce-a14f-c5dada5acfb1",
   "metadata": {},
   "outputs": [
    {
     "data": {
      "text/plain": [
       "A           float64\n",
       "B    datetime64[ns]\n",
       "C           float32\n",
       "D             int32\n",
       "E          category\n",
       "F            object\n",
       "dtype: object"
      ]
     },
     "execution_count": 12,
     "metadata": {},
     "output_type": "execute_result"
    }
   ],
   "source": [
    "df2.dtypes"
   ]
  },
  {
   "cell_type": "code",
   "execution_count": 14,
   "id": "c3d661de-e342-40e4-adf2-3fac6fc1dbe2",
   "metadata": {},
   "outputs": [
    {
     "data": {
      "text/html": [
       "<div>\n",
       "<style scoped>\n",
       "    .dataframe tbody tr th:only-of-type {\n",
       "        vertical-align: middle;\n",
       "    }\n",
       "\n",
       "    .dataframe tbody tr th {\n",
       "        vertical-align: top;\n",
       "    }\n",
       "\n",
       "    .dataframe thead th {\n",
       "        text-align: right;\n",
       "    }\n",
       "</style>\n",
       "<table border=\"1\" class=\"dataframe\">\n",
       "  <thead>\n",
       "    <tr style=\"text-align: right;\">\n",
       "      <th></th>\n",
       "      <th>A</th>\n",
       "      <th>B</th>\n",
       "      <th>C</th>\n",
       "      <th>D</th>\n",
       "    </tr>\n",
       "  </thead>\n",
       "  <tbody>\n",
       "    <tr>\n",
       "      <th>2013-01-01</th>\n",
       "      <td>0.472246</td>\n",
       "      <td>-0.555362</td>\n",
       "      <td>-1.636960</td>\n",
       "      <td>0.287524</td>\n",
       "    </tr>\n",
       "    <tr>\n",
       "      <th>2013-01-02</th>\n",
       "      <td>-0.412438</td>\n",
       "      <td>-0.900977</td>\n",
       "      <td>-0.947121</td>\n",
       "      <td>1.597479</td>\n",
       "    </tr>\n",
       "    <tr>\n",
       "      <th>2013-01-03</th>\n",
       "      <td>-0.531105</td>\n",
       "      <td>0.493044</td>\n",
       "      <td>1.068696</td>\n",
       "      <td>-0.330102</td>\n",
       "    </tr>\n",
       "    <tr>\n",
       "      <th>2013-01-04</th>\n",
       "      <td>0.245967</td>\n",
       "      <td>-0.211568</td>\n",
       "      <td>-1.449977</td>\n",
       "      <td>1.992956</td>\n",
       "    </tr>\n",
       "    <tr>\n",
       "      <th>2013-01-05</th>\n",
       "      <td>0.477261</td>\n",
       "      <td>-0.249786</td>\n",
       "      <td>0.740129</td>\n",
       "      <td>-0.319022</td>\n",
       "    </tr>\n",
       "  </tbody>\n",
       "</table>\n",
       "</div>"
      ],
      "text/plain": [
       "                   A         B         C         D\n",
       "2013-01-01  0.472246 -0.555362 -1.636960  0.287524\n",
       "2013-01-02 -0.412438 -0.900977 -0.947121  1.597479\n",
       "2013-01-03 -0.531105  0.493044  1.068696 -0.330102\n",
       "2013-01-04  0.245967 -0.211568 -1.449977  1.992956\n",
       "2013-01-05  0.477261 -0.249786  0.740129 -0.319022"
      ]
     },
     "execution_count": 14,
     "metadata": {},
     "output_type": "execute_result"
    }
   ],
   "source": [
    "df.head()"
   ]
  },
  {
   "cell_type": "code",
   "execution_count": 15,
   "id": "4cb199cf-8065-4036-9bd5-6e832953009e",
   "metadata": {},
   "outputs": [
    {
     "data": {
      "text/html": [
       "<div>\n",
       "<style scoped>\n",
       "    .dataframe tbody tr th:only-of-type {\n",
       "        vertical-align: middle;\n",
       "    }\n",
       "\n",
       "    .dataframe tbody tr th {\n",
       "        vertical-align: top;\n",
       "    }\n",
       "\n",
       "    .dataframe thead th {\n",
       "        text-align: right;\n",
       "    }\n",
       "</style>\n",
       "<table border=\"1\" class=\"dataframe\">\n",
       "  <thead>\n",
       "    <tr style=\"text-align: right;\">\n",
       "      <th></th>\n",
       "      <th>A</th>\n",
       "      <th>B</th>\n",
       "      <th>C</th>\n",
       "      <th>D</th>\n",
       "    </tr>\n",
       "  </thead>\n",
       "  <tbody>\n",
       "    <tr>\n",
       "      <th>2013-01-04</th>\n",
       "      <td>0.245967</td>\n",
       "      <td>-0.211568</td>\n",
       "      <td>-1.449977</td>\n",
       "      <td>1.992956</td>\n",
       "    </tr>\n",
       "    <tr>\n",
       "      <th>2013-01-05</th>\n",
       "      <td>0.477261</td>\n",
       "      <td>-0.249786</td>\n",
       "      <td>0.740129</td>\n",
       "      <td>-0.319022</td>\n",
       "    </tr>\n",
       "    <tr>\n",
       "      <th>2013-01-06</th>\n",
       "      <td>1.184756</td>\n",
       "      <td>-0.580789</td>\n",
       "      <td>-1.119511</td>\n",
       "      <td>0.489403</td>\n",
       "    </tr>\n",
       "  </tbody>\n",
       "</table>\n",
       "</div>"
      ],
      "text/plain": [
       "                   A         B         C         D\n",
       "2013-01-04  0.245967 -0.211568 -1.449977  1.992956\n",
       "2013-01-05  0.477261 -0.249786  0.740129 -0.319022\n",
       "2013-01-06  1.184756 -0.580789 -1.119511  0.489403"
      ]
     },
     "execution_count": 15,
     "metadata": {},
     "output_type": "execute_result"
    }
   ],
   "source": [
    "df.tail(3)"
   ]
  },
  {
   "cell_type": "code",
   "execution_count": 16,
   "id": "d47ef065-9431-4c71-ae0e-954104f81bb5",
   "metadata": {},
   "outputs": [
    {
     "data": {
      "text/plain": [
       "DatetimeIndex(['2013-01-01', '2013-01-02', '2013-01-03', '2013-01-04',\n",
       "               '2013-01-05', '2013-01-06'],\n",
       "              dtype='datetime64[ns]', freq='D')"
      ]
     },
     "execution_count": 16,
     "metadata": {},
     "output_type": "execute_result"
    }
   ],
   "source": [
    "df.index"
   ]
  },
  {
   "cell_type": "code",
   "execution_count": 20,
   "id": "c3535386-1d3d-4497-8768-7ba8d654e0fb",
   "metadata": {},
   "outputs": [
    {
     "data": {
      "text/plain": [
       "array([[ 0.47224606, -0.55536238, -1.63695954,  0.28752358],\n",
       "       [-0.41243833, -0.9009766 , -0.94712059,  1.59747931],\n",
       "       [-0.53110548,  0.49304359,  1.06869567, -0.33010198],\n",
       "       [ 0.24596739, -0.21156778, -1.44997673,  1.99295628],\n",
       "       [ 0.47726096, -0.24978606,  0.74012923, -0.31902176],\n",
       "       [ 1.18475629, -0.58078934, -1.11951121,  0.48940268]])"
      ]
     },
     "execution_count": 20,
     "metadata": {},
     "output_type": "execute_result"
    }
   ],
   "source": [
    "df.to_numpy()"
   ]
  },
  {
   "cell_type": "code",
   "execution_count": 21,
   "id": "a94c7427-a765-4dbf-be54-19101bc46e73",
   "metadata": {},
   "outputs": [
    {
     "data": {
      "text/plain": [
       "array([[1.0, Timestamp('2013-01-02 00:00:00'), 1.0, 3, 'test', 'foo'],\n",
       "       [1.0, Timestamp('2013-01-02 00:00:00'), 1.0, 3, 'train', 'foo'],\n",
       "       [1.0, Timestamp('2013-01-02 00:00:00'), 1.0, 3, 'test', 'foo'],\n",
       "       [1.0, Timestamp('2013-01-02 00:00:00'), 1.0, 3, 'train', 'foo']],\n",
       "      dtype=object)"
      ]
     },
     "execution_count": 21,
     "metadata": {},
     "output_type": "execute_result"
    }
   ],
   "source": [
    "df2.to_numpy()"
   ]
  },
  {
   "cell_type": "code",
   "execution_count": 24,
   "id": "094d062b-9702-4d69-a78b-bd910494046f",
   "metadata": {},
   "outputs": [
    {
     "data": {
      "text/html": [
       "<div>\n",
       "<style scoped>\n",
       "    .dataframe tbody tr th:only-of-type {\n",
       "        vertical-align: middle;\n",
       "    }\n",
       "\n",
       "    .dataframe tbody tr th {\n",
       "        vertical-align: top;\n",
       "    }\n",
       "\n",
       "    .dataframe thead th {\n",
       "        text-align: right;\n",
       "    }\n",
       "</style>\n",
       "<table border=\"1\" class=\"dataframe\">\n",
       "  <thead>\n",
       "    <tr style=\"text-align: right;\">\n",
       "      <th></th>\n",
       "      <th>A</th>\n",
       "      <th>B</th>\n",
       "      <th>C</th>\n",
       "      <th>D</th>\n",
       "    </tr>\n",
       "  </thead>\n",
       "  <tbody>\n",
       "    <tr>\n",
       "      <th>count</th>\n",
       "      <td>6.000000</td>\n",
       "      <td>6.000000</td>\n",
       "      <td>6.000000</td>\n",
       "      <td>6.000000</td>\n",
       "    </tr>\n",
       "    <tr>\n",
       "      <th>mean</th>\n",
       "      <td>0.239448</td>\n",
       "      <td>-0.334240</td>\n",
       "      <td>-0.557457</td>\n",
       "      <td>0.619706</td>\n",
       "    </tr>\n",
       "    <tr>\n",
       "      <th>std</th>\n",
       "      <td>0.636099</td>\n",
       "      <td>0.476959</td>\n",
       "      <td>1.162563</td>\n",
       "      <td>0.974939</td>\n",
       "    </tr>\n",
       "    <tr>\n",
       "      <th>min</th>\n",
       "      <td>-0.531105</td>\n",
       "      <td>-0.900977</td>\n",
       "      <td>-1.636960</td>\n",
       "      <td>-0.330102</td>\n",
       "    </tr>\n",
       "    <tr>\n",
       "      <th>25%</th>\n",
       "      <td>-0.247837</td>\n",
       "      <td>-0.574433</td>\n",
       "      <td>-1.367360</td>\n",
       "      <td>-0.167385</td>\n",
       "    </tr>\n",
       "    <tr>\n",
       "      <th>50%</th>\n",
       "      <td>0.359107</td>\n",
       "      <td>-0.402574</td>\n",
       "      <td>-1.033316</td>\n",
       "      <td>0.388463</td>\n",
       "    </tr>\n",
       "    <tr>\n",
       "      <th>75%</th>\n",
       "      <td>0.476007</td>\n",
       "      <td>-0.221122</td>\n",
       "      <td>0.318317</td>\n",
       "      <td>1.320460</td>\n",
       "    </tr>\n",
       "    <tr>\n",
       "      <th>max</th>\n",
       "      <td>1.184756</td>\n",
       "      <td>0.493044</td>\n",
       "      <td>1.068696</td>\n",
       "      <td>1.992956</td>\n",
       "    </tr>\n",
       "  </tbody>\n",
       "</table>\n",
       "</div>"
      ],
      "text/plain": [
       "              A         B         C         D\n",
       "count  6.000000  6.000000  6.000000  6.000000\n",
       "mean   0.239448 -0.334240 -0.557457  0.619706\n",
       "std    0.636099  0.476959  1.162563  0.974939\n",
       "min   -0.531105 -0.900977 -1.636960 -0.330102\n",
       "25%   -0.247837 -0.574433 -1.367360 -0.167385\n",
       "50%    0.359107 -0.402574 -1.033316  0.388463\n",
       "75%    0.476007 -0.221122  0.318317  1.320460\n",
       "max    1.184756  0.493044  1.068696  1.992956"
      ]
     },
     "execution_count": 24,
     "metadata": {},
     "output_type": "execute_result"
    }
   ],
   "source": [
    "#show a quick statistic summary of your data:\n",
    "df.describe()"
   ]
  },
  {
   "cell_type": "code",
   "execution_count": 25,
   "id": "d564ab0c-83a8-4f95-b0e3-338ba6228764",
   "metadata": {},
   "outputs": [
    {
     "data": {
      "text/html": [
       "<div>\n",
       "<style scoped>\n",
       "    .dataframe tbody tr th:only-of-type {\n",
       "        vertical-align: middle;\n",
       "    }\n",
       "\n",
       "    .dataframe tbody tr th {\n",
       "        vertical-align: top;\n",
       "    }\n",
       "\n",
       "    .dataframe thead th {\n",
       "        text-align: right;\n",
       "    }\n",
       "</style>\n",
       "<table border=\"1\" class=\"dataframe\">\n",
       "  <thead>\n",
       "    <tr style=\"text-align: right;\">\n",
       "      <th></th>\n",
       "      <th>2013-01-01</th>\n",
       "      <th>2013-01-02</th>\n",
       "      <th>2013-01-03</th>\n",
       "      <th>2013-01-04</th>\n",
       "      <th>2013-01-05</th>\n",
       "      <th>2013-01-06</th>\n",
       "    </tr>\n",
       "  </thead>\n",
       "  <tbody>\n",
       "    <tr>\n",
       "      <th>A</th>\n",
       "      <td>0.472246</td>\n",
       "      <td>-0.412438</td>\n",
       "      <td>-0.531105</td>\n",
       "      <td>0.245967</td>\n",
       "      <td>0.477261</td>\n",
       "      <td>1.184756</td>\n",
       "    </tr>\n",
       "    <tr>\n",
       "      <th>B</th>\n",
       "      <td>-0.555362</td>\n",
       "      <td>-0.900977</td>\n",
       "      <td>0.493044</td>\n",
       "      <td>-0.211568</td>\n",
       "      <td>-0.249786</td>\n",
       "      <td>-0.580789</td>\n",
       "    </tr>\n",
       "    <tr>\n",
       "      <th>C</th>\n",
       "      <td>-1.636960</td>\n",
       "      <td>-0.947121</td>\n",
       "      <td>1.068696</td>\n",
       "      <td>-1.449977</td>\n",
       "      <td>0.740129</td>\n",
       "      <td>-1.119511</td>\n",
       "    </tr>\n",
       "    <tr>\n",
       "      <th>D</th>\n",
       "      <td>0.287524</td>\n",
       "      <td>1.597479</td>\n",
       "      <td>-0.330102</td>\n",
       "      <td>1.992956</td>\n",
       "      <td>-0.319022</td>\n",
       "      <td>0.489403</td>\n",
       "    </tr>\n",
       "  </tbody>\n",
       "</table>\n",
       "</div>"
      ],
      "text/plain": [
       "   2013-01-01  2013-01-02  2013-01-03  2013-01-04  2013-01-05  2013-01-06\n",
       "A    0.472246   -0.412438   -0.531105    0.245967    0.477261    1.184756\n",
       "B   -0.555362   -0.900977    0.493044   -0.211568   -0.249786   -0.580789\n",
       "C   -1.636960   -0.947121    1.068696   -1.449977    0.740129   -1.119511\n",
       "D    0.287524    1.597479   -0.330102    1.992956   -0.319022    0.489403"
      ]
     },
     "execution_count": 25,
     "metadata": {},
     "output_type": "execute_result"
    }
   ],
   "source": [
    "df.T"
   ]
  },
  {
   "cell_type": "code",
   "execution_count": 26,
   "id": "4fd4d269-b65c-4d69-9022-adbebb24a4b8",
   "metadata": {},
   "outputs": [
    {
     "data": {
      "text/html": [
       "<div>\n",
       "<style scoped>\n",
       "    .dataframe tbody tr th:only-of-type {\n",
       "        vertical-align: middle;\n",
       "    }\n",
       "\n",
       "    .dataframe tbody tr th {\n",
       "        vertical-align: top;\n",
       "    }\n",
       "\n",
       "    .dataframe thead th {\n",
       "        text-align: right;\n",
       "    }\n",
       "</style>\n",
       "<table border=\"1\" class=\"dataframe\">\n",
       "  <thead>\n",
       "    <tr style=\"text-align: right;\">\n",
       "      <th></th>\n",
       "      <th>D</th>\n",
       "      <th>C</th>\n",
       "      <th>B</th>\n",
       "      <th>A</th>\n",
       "    </tr>\n",
       "  </thead>\n",
       "  <tbody>\n",
       "    <tr>\n",
       "      <th>2013-01-01</th>\n",
       "      <td>0.287524</td>\n",
       "      <td>-1.636960</td>\n",
       "      <td>-0.555362</td>\n",
       "      <td>0.472246</td>\n",
       "    </tr>\n",
       "    <tr>\n",
       "      <th>2013-01-02</th>\n",
       "      <td>1.597479</td>\n",
       "      <td>-0.947121</td>\n",
       "      <td>-0.900977</td>\n",
       "      <td>-0.412438</td>\n",
       "    </tr>\n",
       "    <tr>\n",
       "      <th>2013-01-03</th>\n",
       "      <td>-0.330102</td>\n",
       "      <td>1.068696</td>\n",
       "      <td>0.493044</td>\n",
       "      <td>-0.531105</td>\n",
       "    </tr>\n",
       "    <tr>\n",
       "      <th>2013-01-04</th>\n",
       "      <td>1.992956</td>\n",
       "      <td>-1.449977</td>\n",
       "      <td>-0.211568</td>\n",
       "      <td>0.245967</td>\n",
       "    </tr>\n",
       "    <tr>\n",
       "      <th>2013-01-05</th>\n",
       "      <td>-0.319022</td>\n",
       "      <td>0.740129</td>\n",
       "      <td>-0.249786</td>\n",
       "      <td>0.477261</td>\n",
       "    </tr>\n",
       "    <tr>\n",
       "      <th>2013-01-06</th>\n",
       "      <td>0.489403</td>\n",
       "      <td>-1.119511</td>\n",
       "      <td>-0.580789</td>\n",
       "      <td>1.184756</td>\n",
       "    </tr>\n",
       "  </tbody>\n",
       "</table>\n",
       "</div>"
      ],
      "text/plain": [
       "                   D         C         B         A\n",
       "2013-01-01  0.287524 -1.636960 -0.555362  0.472246\n",
       "2013-01-02  1.597479 -0.947121 -0.900977 -0.412438\n",
       "2013-01-03 -0.330102  1.068696  0.493044 -0.531105\n",
       "2013-01-04  1.992956 -1.449977 -0.211568  0.245967\n",
       "2013-01-05 -0.319022  0.740129 -0.249786  0.477261\n",
       "2013-01-06  0.489403 -1.119511 -0.580789  1.184756"
      ]
     },
     "execution_count": 26,
     "metadata": {},
     "output_type": "execute_result"
    }
   ],
   "source": [
    "# axis로 정렬\n",
    "df.sort_index(axis = 1, ascending=False)"
   ]
  },
  {
   "cell_type": "code",
   "execution_count": 27,
   "id": "63bfb13f-c282-4917-aaa0-47ad5941fd5c",
   "metadata": {},
   "outputs": [
    {
     "data": {
      "text/html": [
       "<div>\n",
       "<style scoped>\n",
       "    .dataframe tbody tr th:only-of-type {\n",
       "        vertical-align: middle;\n",
       "    }\n",
       "\n",
       "    .dataframe tbody tr th {\n",
       "        vertical-align: top;\n",
       "    }\n",
       "\n",
       "    .dataframe thead th {\n",
       "        text-align: right;\n",
       "    }\n",
       "</style>\n",
       "<table border=\"1\" class=\"dataframe\">\n",
       "  <thead>\n",
       "    <tr style=\"text-align: right;\">\n",
       "      <th></th>\n",
       "      <th>A</th>\n",
       "      <th>B</th>\n",
       "      <th>C</th>\n",
       "      <th>D</th>\n",
       "    </tr>\n",
       "  </thead>\n",
       "  <tbody>\n",
       "    <tr>\n",
       "      <th>2013-01-02</th>\n",
       "      <td>-0.412438</td>\n",
       "      <td>-0.900977</td>\n",
       "      <td>-0.947121</td>\n",
       "      <td>1.597479</td>\n",
       "    </tr>\n",
       "    <tr>\n",
       "      <th>2013-01-06</th>\n",
       "      <td>1.184756</td>\n",
       "      <td>-0.580789</td>\n",
       "      <td>-1.119511</td>\n",
       "      <td>0.489403</td>\n",
       "    </tr>\n",
       "    <tr>\n",
       "      <th>2013-01-01</th>\n",
       "      <td>0.472246</td>\n",
       "      <td>-0.555362</td>\n",
       "      <td>-1.636960</td>\n",
       "      <td>0.287524</td>\n",
       "    </tr>\n",
       "    <tr>\n",
       "      <th>2013-01-05</th>\n",
       "      <td>0.477261</td>\n",
       "      <td>-0.249786</td>\n",
       "      <td>0.740129</td>\n",
       "      <td>-0.319022</td>\n",
       "    </tr>\n",
       "    <tr>\n",
       "      <th>2013-01-04</th>\n",
       "      <td>0.245967</td>\n",
       "      <td>-0.211568</td>\n",
       "      <td>-1.449977</td>\n",
       "      <td>1.992956</td>\n",
       "    </tr>\n",
       "    <tr>\n",
       "      <th>2013-01-03</th>\n",
       "      <td>-0.531105</td>\n",
       "      <td>0.493044</td>\n",
       "      <td>1.068696</td>\n",
       "      <td>-0.330102</td>\n",
       "    </tr>\n",
       "  </tbody>\n",
       "</table>\n",
       "</div>"
      ],
      "text/plain": [
       "                   A         B         C         D\n",
       "2013-01-02 -0.412438 -0.900977 -0.947121  1.597479\n",
       "2013-01-06  1.184756 -0.580789 -1.119511  0.489403\n",
       "2013-01-01  0.472246 -0.555362 -1.636960  0.287524\n",
       "2013-01-05  0.477261 -0.249786  0.740129 -0.319022\n",
       "2013-01-04  0.245967 -0.211568 -1.449977  1.992956\n",
       "2013-01-03 -0.531105  0.493044  1.068696 -0.330102"
      ]
     },
     "execution_count": 27,
     "metadata": {},
     "output_type": "execute_result"
    }
   ],
   "source": [
    "# value로 정렬\n",
    "df.sort_values(by=\"B\")"
   ]
  },
  {
   "cell_type": "code",
   "execution_count": null,
   "id": "5c08c9e0-815e-4ec7-8de7-09223779b534",
   "metadata": {},
   "outputs": [],
   "source": []
  },
  {
   "cell_type": "code",
   "execution_count": null,
   "id": "fc965ab6-9ec1-43fb-b5a7-250768f8130b",
   "metadata": {},
   "outputs": [],
   "source": []
  },
  {
   "cell_type": "code",
   "execution_count": null,
   "id": "c3e730c1-83fb-414a-b429-e580c77f5b42",
   "metadata": {},
   "outputs": [],
   "source": []
  },
  {
   "cell_type": "code",
   "execution_count": null,
   "id": "1813b50b-9977-4c73-a188-2b74e790799c",
   "metadata": {},
   "outputs": [],
   "source": []
  },
  {
   "cell_type": "code",
   "execution_count": null,
   "id": "4c68654d-e877-46d1-b232-ca15685f05f2",
   "metadata": {},
   "outputs": [],
   "source": []
  },
  {
   "cell_type": "code",
   "execution_count": null,
   "id": "19b48b6a-2df4-4646-8220-3ea36d95e70a",
   "metadata": {},
   "outputs": [],
   "source": []
  },
  {
   "cell_type": "code",
   "execution_count": null,
   "id": "af37ac35-9ae7-47eb-9f76-d145e73a100f",
   "metadata": {},
   "outputs": [],
   "source": []
  },
  {
   "cell_type": "code",
   "execution_count": null,
   "id": "629f052b-e775-4a48-b976-eee902abe46c",
   "metadata": {},
   "outputs": [],
   "source": []
  }
 ],
 "metadata": {
  "kernelspec": {
   "display_name": "Python 3",
   "language": "python",
   "name": "python3"
  },
  "language_info": {
   "codemirror_mode": {
    "name": "ipython",
    "version": 3
   },
   "file_extension": ".py",
   "mimetype": "text/x-python",
   "name": "python",
   "nbconvert_exporter": "python",
   "pygments_lexer": "ipython3",
   "version": "3.8.8"
  }
 },
 "nbformat": 4,
 "nbformat_minor": 5
}
