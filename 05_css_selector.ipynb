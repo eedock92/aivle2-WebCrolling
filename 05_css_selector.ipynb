{
 "cells": [
  {
   "cell_type": "code",
   "execution_count": null,
   "id": "9565bff7-b360-48ee-80cf-df45e84b373b",
   "metadata": {},
   "outputs": [],
   "source": [
    "css selector\n",
    "- css 스타일 적용 시킬 HTML 엘리먼트를 선택하는 방법"
   ]
  },
  {
   "cell_type": "code",
   "execution_count": null,
   "id": "70f7934a-b5e7-4488-ab92-910bb6e5a076",
   "metadata": {},
   "outputs": [],
   "source": [
    "#1. Element Tag 이름으로 선택\n",
    "# css selector : span : python 3 선택"
   ]
  },
  {
   "cell_type": "code",
   "execution_count": 2,
   "id": "2a21c12f-0b3a-4f93-b699-774b07629ec9",
   "metadata": {},
   "outputs": [
    {
     "data": {
      "text/html": [
       "<div id=\"kt\">\n",
       "    <div>python 1</div>\n",
       "    <p>python 2</p>\n",
       "    <span>python 3</span>\n",
       "</div>\n"
      ],
      "text/plain": [
       "<IPython.core.display.HTML object>"
      ]
     },
     "metadata": {},
     "output_type": "display_data"
    }
   ],
   "source": [
    "%%html\n",
    "<div id=\"kt\">\n",
    "    <div>python 1</div>\n",
    "    <p>python 2</p>\n",
    "    <span>python 3</span>\n",
    "</div>"
   ]
  },
  {
   "cell_type": "code",
   "execution_count": null,
   "id": "453a9634-0f08-44bf-a72b-65be9bab0625",
   "metadata": {},
   "outputs": [],
   "source": [
    "#2. Element Tag 이름으로 선택\n",
    "# css selector : #kt2 : python 2 선택"
   ]
  },
  {
   "cell_type": "code",
   "execution_count": 3,
   "id": "f88c7b42-bdad-4392-934f-87c572923a53",
   "metadata": {},
   "outputs": [
    {
     "data": {
      "text/html": [
       "<div id=\"kt\">\n",
       "    <p id=\"kt1\">python 1</p>\n",
       "    <p id=\"kt2\">python 2</p>\n",
       "    <p id=\"kt3\">python 3</p>\n",
       "</div>\n"
      ],
      "text/plain": [
       "<IPython.core.display.HTML object>"
      ]
     },
     "metadata": {},
     "output_type": "display_data"
    }
   ],
   "source": [
    "%%html\n",
    "<div id=\"kt\">\n",
    "    <p id=\"kt1\">python 1</p>\n",
    "    <p id=\"kt2\">python 2</p>\n",
    "    <p id=\"kt3\">python 3</p>\n",
    "</div>"
   ]
  },
  {
   "cell_type": "code",
   "execution_count": null,
   "id": "aa504a4c-e62e-4ffb-b52c-ce4f97a6247d",
   "metadata": {},
   "outputs": [],
   "source": [
    "#3. Element Tag 이름으로 선택\n",
    "# css selector : .kt : python 1 2 3 선택"
   ]
  },
  {
   "cell_type": "code",
   "execution_count": 4,
   "id": "93c6bf6a-8a9e-4fc3-818a-91c0f787a624",
   "metadata": {},
   "outputs": [
    {
     "data": {
      "text/html": [
       "\n",
       "<p class=\"kt kt1\">python 1</p>\n",
       "<p class=\"kt kt2\">python 2</p>\n",
       "<p class=\"kt kt3\">python 3</p>\n"
      ],
      "text/plain": [
       "<IPython.core.display.HTML object>"
      ]
     },
     "metadata": {},
     "output_type": "display_data"
    }
   ],
   "source": [
    "%%html\n",
    "\n",
    "<p class=\"kt kt1\">python 1</p>\n",
    "<p class=\"kt kt2\">python 2</p>\n",
    "<p class=\"kt kt3\">python 3</p>\n"
   ]
  },
  {
   "cell_type": "code",
   "execution_count": null,
   "id": "a224c9c1-9ce8-461a-b483-9f750b7290d7",
   "metadata": {},
   "outputs": [],
   "source": [
    "#4. Tag attr 값으로 선택\n",
    "# css selector : [value=\"no1\"] : python 1 선택"
   ]
  },
  {
   "cell_type": "code",
   "execution_count": 5,
   "id": "f83d5f56-3171-4f06-9b33-74d71af3a24c",
   "metadata": {},
   "outputs": [
    {
     "data": {
      "text/html": [
       "<p value=\"no1\">python 1</p>\n",
       "<p value=\"no1\">python 1</p>\n"
      ],
      "text/plain": [
       "<IPython.core.display.HTML object>"
      ]
     },
     "metadata": {},
     "output_type": "display_data"
    }
   ],
   "source": [
    "%%html\n",
    "<p value=\"no1\">python 1</p>\n",
    "<p value=\"no2\">python 2</p>\n",
    "<p value=\"no3\">python 3</p>"
   ]
  },
  {
   "cell_type": "code",
   "execution_count": null,
   "id": "52cddb55-aa21-446a-b07a-442b7ec9a284",
   "metadata": {},
   "outputs": [],
   "source": [
    "#5. 여러개의 앨리먼트 선택\n",
    "\n",
    "#not selector\n",
    "#class no 앨리먼트를 모두 선택하고,\n",
    "#no2 클래스를 갖는 엘리먼트 제외\n",
    "#css selector : .no:not(.no2)\n",
    "\n",
    "#class no 앨리먼트"
   ]
  },
  {
   "cell_type": "code",
   "execution_count": null,
   "id": "83547b3c-ba9a-4a72-a53d-5eb1ec44de49",
   "metadata": {},
   "outputs": [],
   "source": [
    "%%html\n",
    "<div>\n",
    "    <p class=\"kt\">python 1</p>\n",
    "    <p class=\"kt\">python 2</p>\n",
    "    <p class=\"kt\">python 3</p>\n",
    "</div>"
   ]
  },
  {
   "cell_type": "code",
   "execution_count": null,
   "id": "6d4c7e1e-53c4-423e-bb94-8a5be30858c4",
   "metadata": {},
   "outputs": [],
   "source": [
    "#n번째 엘리먼트 선택\n",
    "# css selector : .py:nth-child(2) : python 2 선택\n",
    "# 2번째 엘리먼트 중에서 .py 클래스를 갖는 : 0"
   ]
  },
  {
   "cell_type": "code",
   "execution_count": null,
   "id": "e14a2e32-b4cf-447f-8c4a-2d6451eff085",
   "metadata": {},
   "outputs": [],
   "source": [
    "%%html\n",
    "<div>\n",
    "    <p class=\"py\">python 1</p>\n",
    "    <p class=\"py\">python 2</p>\n",
    "    <p class=\"py\">python 3</p>\n",
    "</div>"
   ]
  },
  {
   "cell_type": "code",
   "execution_count": null,
   "id": "3c6bc4e3-8e3a-4682-b606-1ca2b68d3785",
   "metadata": {},
   "outputs": [],
   "source": [
    "#6. 계층적으로 엘리먼트 선택\n",
    "# .wrap > p : inner 1 선택\n",
    "# .wrap p : inner 1, inner 2 선택"
   ]
  },
  {
   "cell_type": "code",
   "execution_count": 6,
   "id": "d6834515-d040-451d-a2a3-12e58c20d42e",
   "metadata": {},
   "outputs": [
    {
     "data": {
      "text/html": [
       "<div class=\"wrap\">\n",
       "    <p>inner 1</p>\n",
       "    <div>\n",
       "        <p>inner 2</p>\n",
       "    </div>\n",
       "</div>\n"
      ],
      "text/plain": [
       "<IPython.core.display.HTML object>"
      ]
     },
     "metadata": {},
     "output_type": "display_data"
    }
   ],
   "source": [
    "%%html\n",
    "<div class=\"wrap\">\n",
    "    <p>inner 1</p>\n",
    "    <div>\n",
    "        <p>inner 2</p>\n",
    "    </div>\n",
    "</div>"
   ]
  },
  {
   "cell_type": "code",
   "execution_count": null,
   "id": "b7e4c47d-7d70-4702-9394-bc088a36301a",
   "metadata": {},
   "outputs": [],
   "source": []
  },
  {
   "cell_type": "code",
   "execution_count": null,
   "id": "37ee9312-0a4a-4059-8b74-406bc1b57194",
   "metadata": {},
   "outputs": [],
   "source": []
  }
 ],
 "metadata": {
  "kernelspec": {
   "display_name": "Python 3",
   "language": "python",
   "name": "python3"
  },
  "language_info": {
   "codemirror_mode": {
    "name": "ipython",
    "version": 3
   },
   "file_extension": ".py",
   "mimetype": "text/x-python",
   "name": "python",
   "nbconvert_exporter": "python",
   "pygments_lexer": "ipython3",
   "version": "3.8.8"
  }
 },
 "nbformat": 4,
 "nbformat_minor": 5
}
