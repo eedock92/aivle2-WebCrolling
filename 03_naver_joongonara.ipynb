{
 "cells": [
  {
   "cell_type": "code",
   "execution_count": null,
   "id": "f4abcb23-2aef-4c27-b353-e99278a64efa",
   "metadata": {},
   "outputs": [],
   "source": [
    "#### 네이버 중고나라 게시글 데이터 수집\n",
    "- selenium에서 iframe에 있는"
   ]
  },
  {
   "cell_type": "code",
   "execution_count": 1,
   "id": "967d6683-6b58-414b-96ea-e44e8dcd8175",
   "metadata": {},
   "outputs": [],
   "source": [
    "from selenium import webdriver\n",
    "from selenium.webdriver.common.by import By"
   ]
  },
  {
   "cell_type": "code",
   "execution_count": 3,
   "id": "e8cc8c6d-cd8d-4b2d-bd53-0f4f0edf44fd",
   "metadata": {},
   "outputs": [],
   "source": [
    "url = \"https://cafe.naver.com/joonggonara\""
   ]
  },
  {
   "cell_type": "code",
   "execution_count": 4,
   "id": "ec60e3d8-c30a-41a2-a775-548b33c000f5",
   "metadata": {},
   "outputs": [],
   "source": [
    "#1. 웹 브라우져 열기 및 페이지 이동\n",
    "driver = webdriver.Chrome()\n",
    "driver.get(url)"
   ]
  },
  {
   "cell_type": "code",
   "execution_count": 6,
   "id": "a4b7b55a-5659-414d-9d09-e98a7b82f7e7",
   "metadata": {},
   "outputs": [],
   "source": [
    "#2. 웹 브라우져 열기 및 페이지 이동\n",
    "keyword = \"맥북\"\n",
    "driver.find_element(By.CSS_SELECTOR, \"#topLayerQueryInput\").send_keys(keyword)"
   ]
  },
  {
   "cell_type": "code",
   "execution_count": 8,
   "id": "8a681fb6-47f8-4b7d-9aaa-0059286afa67",
   "metadata": {},
   "outputs": [],
   "source": [
    "driver.execute_script(\"searchBoard();\")"
   ]
  },
  {
   "cell_type": "code",
   "execution_count": null,
   "id": "5c8f5ab8-7f29-4b2c-b897-235d381e6561",
   "metadata": {},
   "outputs": [],
   "source": [
    "#3. 게시글 목록 데이터 수집 : iframe"
   ]
  },
  {
   "cell_type": "code",
   "execution_count": 9,
   "id": "c82bc45e-e2d9-4a5b-b264-b0c1ef6b8384",
   "metadata": {},
   "outputs": [],
   "source": [
    "selector = \".article-board > table > tbody > tr\"\n",
    "elements = driver.find_elements(By.CSS_SELECTOR, selector)"
   ]
  },
  {
   "cell_type": "code",
   "execution_count": 10,
   "id": "2686b454-90a3-4e7e-afe6-71233af4771f",
   "metadata": {},
   "outputs": [
    {
     "data": {
      "text/plain": [
       "0"
      ]
     },
     "execution_count": 10,
     "metadata": {},
     "output_type": "execute_result"
    }
   ],
   "source": [
    "len(elements)"
   ]
  },
  {
   "cell_type": "code",
   "execution_count": 12,
   "id": "96111213-f9e8-45a1-93d1-59f1358fdc50",
   "metadata": {},
   "outputs": [
    {
     "data": {
      "text/plain": [
       "<selenium.webdriver.remote.webelement.WebElement (session=\"37f11975c71864955b8e24b5f58c8374\", element=\"fe033ff7-c5d8-4bfc-8a07-f19dd15affc5\")>"
      ]
     },
     "execution_count": 12,
     "metadata": {},
     "output_type": "execute_result"
    }
   ],
   "source": [
    "#iframe 으로 이동\n",
    "iframe = driver.find_element(By.CSS_SELECTOR, \"#cafe_main\")\n",
    "iframe"
   ]
  },
  {
   "cell_type": "code",
   "execution_count": 13,
   "id": "db79d8f2-290e-4038-89c7-3ed719ccd40d",
   "metadata": {},
   "outputs": [],
   "source": [
    "driver.switch_to.frame(iframe)"
   ]
  },
  {
   "cell_type": "code",
   "execution_count": 14,
   "id": "7fad2e2a-5012-4035-b326-459ac60ff047",
   "metadata": {},
   "outputs": [
    {
     "data": {
      "text/plain": [
       "15"
      ]
     },
     "execution_count": 14,
     "metadata": {},
     "output_type": "execute_result"
    }
   ],
   "source": [
    "selector = \".article-board > table > tbody > tr\"\n",
    "elements = driver.find_elements(By.CSS_SELECTOR, selector)\n",
    "len(elements)"
   ]
  },
  {
   "cell_type": "code",
   "execution_count": 16,
   "id": "2770fb61-de9a-48cb-a1ff-a93e07e01b35",
   "metadata": {},
   "outputs": [],
   "source": [
    "element = elements[0]"
   ]
  },
  {
   "cell_type": "code",
   "execution_count": 17,
   "id": "20204c17-d85d-4e6e-a65c-0faf384ab785",
   "metadata": {},
   "outputs": [
    {
     "data": {
      "text/plain": [
       "('14인치 M1PRO M1MAX 엠원프로 엠원맥스 맥북프로 애플노트북', 'topontopcom')"
      ]
     },
     "execution_count": 17,
     "metadata": {},
     "output_type": "execute_result"
    }
   ],
   "source": [
    "title = element.find_element(By.CSS_SELECTOR, \".article\").text\n",
    "writer = element.find_element(By.CSS_SELECTOR, \".p-nick\").text\n",
    "title, writer"
   ]
  },
  {
   "cell_type": "code",
   "execution_count": 20,
   "id": "70bf4ccd-b432-4822-8589-a42adde453ca",
   "metadata": {},
   "outputs": [
    {
     "data": {
      "text/html": [
       "<div>\n",
       "<style scoped>\n",
       "    .dataframe tbody tr th:only-of-type {\n",
       "        vertical-align: middle;\n",
       "    }\n",
       "\n",
       "    .dataframe tbody tr th {\n",
       "        vertical-align: top;\n",
       "    }\n",
       "\n",
       "    .dataframe thead th {\n",
       "        text-align: right;\n",
       "    }\n",
       "</style>\n",
       "<table border=\"1\" class=\"dataframe\">\n",
       "  <thead>\n",
       "    <tr style=\"text-align: right;\">\n",
       "      <th></th>\n",
       "      <th>title</th>\n",
       "      <th>writer</th>\n",
       "    </tr>\n",
       "  </thead>\n",
       "  <tbody>\n",
       "    <tr>\n",
       "      <th>13</th>\n",
       "      <td>2021 M1 맥북프로 16인치 스페이스그레이</td>\n",
       "      <td>흐루두두</td>\n",
       "    </tr>\n",
       "    <tr>\n",
       "      <th>14</th>\n",
       "      <td>맥북에어m1 16g 512 스페이스그레이+매직마우스2+파우치+거치대+독+허브 증정</td>\n",
       "      <td>lyc891010</td>\n",
       "    </tr>\n",
       "  </tbody>\n",
       "</table>\n",
       "</div>"
      ],
      "text/plain": [
       "                                            title     writer\n",
       "13                      2021 M1 맥북프로 16인치 스페이스그레이       흐루두두\n",
       "14  맥북에어m1 16g 512 스페이스그레이+매직마우스2+파우치+거치대+독+허브 증정  lyc891010"
      ]
     },
     "execution_count": 20,
     "metadata": {},
     "output_type": "execute_result"
    }
   ],
   "source": [
    "data = []\n",
    "for element in elements:\n",
    "    data.append({\n",
    "        \"title\" : element.find_element(By.CSS_SELECTOR, \".article\").text,\n",
    "        \"writer\" : element.find_element(By.CSS_SELECTOR, \".p-nick\").text\n",
    "    })\n",
    "df = pd.DataFrame(data)\n",
    "df.tail(2)"
   ]
  },
  {
   "cell_type": "code",
   "execution_count": null,
   "id": "788bb797-4504-4851-b048-f788d8cc4f21",
   "metadata": {},
   "outputs": [],
   "source": [
    "# 원래 defualt frame으로 이동\n",
    "driver.switch_to.default_content()"
   ]
  },
  {
   "cell_type": "code",
   "execution_count": null,
   "id": "741d4c2b-850b-4ac6-b451-819397a701ee",
   "metadata": {},
   "outputs": [],
   "source": [
    "#4. 웹브라우저 종료\n",
    "driver.quit()"
   ]
  },
  {
   "cell_type": "code",
   "execution_count": null,
   "id": "1cb578fa-6e4a-482e-87ad-d4f622e25d27",
   "metadata": {},
   "outputs": [],
   "source": []
  },
  {
   "cell_type": "code",
   "execution_count": null,
   "id": "68f82b63-218a-4035-86ac-51da4b9194d3",
   "metadata": {},
   "outputs": [],
   "source": []
  },
  {
   "cell_type": "code",
   "execution_count": null,
   "id": "4c7c88ba-24bd-4b26-af40-e6e02e10ed49",
   "metadata": {},
   "outputs": [],
   "source": []
  },
  {
   "cell_type": "code",
   "execution_count": null,
   "id": "8ba9de37-743c-44ba-96a7-8be912e6a822",
   "metadata": {},
   "outputs": [],
   "source": []
  },
  {
   "cell_type": "code",
   "execution_count": null,
   "id": "8157f418-00f3-4aea-89a3-9a1d7037fa59",
   "metadata": {},
   "outputs": [],
   "source": []
  },
  {
   "cell_type": "code",
   "execution_count": null,
   "id": "1c1fd50f-ca3a-4a0b-82c6-3b2c57317b88",
   "metadata": {},
   "outputs": [],
   "source": []
  },
  {
   "cell_type": "code",
   "execution_count": null,
   "id": "fe8cf0e7-bd43-4012-ace3-ad1218f58ab7",
   "metadata": {},
   "outputs": [],
   "source": []
  },
  {
   "cell_type": "code",
   "execution_count": null,
   "id": "9ebe8313-9fa2-4812-b632-f04a1d5dd223",
   "metadata": {},
   "outputs": [],
   "source": []
  },
  {
   "cell_type": "code",
   "execution_count": null,
   "id": "4a2e91bc-af2b-4539-9531-e91217d216b2",
   "metadata": {},
   "outputs": [],
   "source": []
  },
  {
   "cell_type": "code",
   "execution_count": null,
   "id": "f8e4d077-49e5-42fd-b979-e1fe604bd345",
   "metadata": {},
   "outputs": [],
   "source": []
  }
 ],
 "metadata": {
  "kernelspec": {
   "display_name": "Python 3",
   "language": "python",
   "name": "python3"
  },
  "language_info": {
   "codemirror_mode": {
    "name": "ipython",
    "version": 3
   },
   "file_extension": ".py",
   "mimetype": "text/x-python",
   "name": "python",
   "nbconvert_exporter": "python",
   "pygments_lexer": "ipython3",
   "version": "3.8.8"
  }
 },
 "nbformat": 4,
 "nbformat_minor": 5
}
