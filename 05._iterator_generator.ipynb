{
 "cells": [
  {
   "cell_type": "code",
   "execution_count": null,
   "id": "2b4b6133-0dba-45cc-8a66-a00da16bf4e9",
   "metadata": {},
   "outputs": [],
   "source": [
    "#yied\n",
    "#iterable : 순서가 있는 데이터 집합 : list, tuple\n",
    "#iterator : next 함수를 실행하여 값을 발생시키는 값 생성기\n",
    "#generator : iterator 간단하게 구현한 문법"
   ]
  },
  {
   "cell_type": "code",
   "execution_count": 1,
   "id": "9b597f71-cbc7-4df2-b496-926dc07ec907",
   "metadata": {},
   "outputs": [],
   "source": [
    "# 이터레이터 만들기\n",
    "iterator = iter([1,2,3])"
   ]
  },
  {
   "cell_type": "code",
   "execution_count": 2,
   "id": "41f49f43-2935-44e4-b1dd-400ad325033d",
   "metadata": {},
   "outputs": [
    {
     "data": {
      "text/plain": [
       "list_iterator"
      ]
     },
     "execution_count": 2,
     "metadata": {},
     "output_type": "execute_result"
    }
   ],
   "source": [
    "type(iterator)"
   ]
  },
  {
   "cell_type": "code",
   "execution_count": 3,
   "id": "24f2a806-3d44-488c-8597-7890062b3dfd",
   "metadata": {},
   "outputs": [
    {
     "data": {
      "text/plain": [
       "1"
      ]
     },
     "execution_count": 3,
     "metadata": {},
     "output_type": "execute_result"
    }
   ],
   "source": [
    "next(iterator)"
   ]
  },
  {
   "cell_type": "code",
   "execution_count": null,
   "id": "0a5e304b-c412-4971-ae1c-b9b04dc9fed1",
   "metadata": {},
   "outputs": [],
   "source": [
    "# 클래스로 이터레이터 만들기 : 피보나치 수열"
   ]
  },
  {
   "cell_type": "code",
   "execution_count": 5,
   "id": "c190dd6e-978d-4c76-afe1-eaa342057f5e",
   "metadata": {},
   "outputs": [],
   "source": [
    "class Fib:\n",
    "    def __init__(self):\n",
    "        self.prev = 0\n",
    "        self.curr = 1\n",
    "    def __iter__(self):\n",
    "        return self\n",
    "    def __next__(self):\n",
    "        value = self.curr\n",
    "        self.curr += self.prev\n",
    "        self.prev = self.curr\n",
    "        return value"
   ]
  },
  {
   "cell_type": "code",
   "execution_count": 6,
   "id": "3c855e52-c5b2-4f41-8737-e14a36c7be1d",
   "metadata": {},
   "outputs": [
    {
     "data": {
      "text/plain": [
       "__main__.Fib"
      ]
     },
     "execution_count": 6,
     "metadata": {},
     "output_type": "execute_result"
    }
   ],
   "source": [
    "fib = Fib()\n",
    "type(fib)"
   ]
  },
  {
   "cell_type": "code",
   "execution_count": 16,
   "id": "8c4b508f-b806-42aa-b14e-2715156f4f00",
   "metadata": {},
   "outputs": [
    {
     "data": {
      "text/plain": [
       "256"
      ]
     },
     "execution_count": 16,
     "metadata": {},
     "output_type": "execute_result"
    }
   ],
   "source": [
    "next(fib)"
   ]
  },
  {
   "cell_type": "code",
   "execution_count": null,
   "id": "cc2fc179-8137-4f38-b4fa-1c6802bcf1d5",
   "metadata": {},
   "outputs": [],
   "source": [
    "# yield : 일반 함수를 제너레이터로 만들어주는 명령어\n",
    "# next 함수를 실행해서 yiled 를 만나면 코드 실행 중단"
   ]
  },
  {
   "cell_type": "code",
   "execution_count": 17,
   "id": "851d7d3b-062e-44a5-aeb1-8ff2c593ad4a",
   "metadata": {},
   "outputs": [],
   "source": [
    "def fib():\n",
    "    prev, curr = 0, 1\n",
    "    while True:\n",
    "        yield curr # curr를 return 하고 코드 실행 중단\n",
    "        prev, curr = curr, prev + curr"
   ]
  },
  {
   "cell_type": "code",
   "execution_count": 18,
   "id": "b743a650-625b-4b1c-acdc-79bf621233c8",
   "metadata": {},
   "outputs": [],
   "source": [
    "f = fib()"
   ]
  },
  {
   "cell_type": "code",
   "execution_count": 19,
   "id": "35624b6f-e4d3-47bc-b367-405f0f66aba6",
   "metadata": {},
   "outputs": [
    {
     "data": {
      "text/plain": [
       "generator"
      ]
     },
     "execution_count": 19,
     "metadata": {},
     "output_type": "execute_result"
    }
   ],
   "source": [
    "type(f)"
   ]
  },
  {
   "cell_type": "code",
   "execution_count": 33,
   "id": "f1c1b870-10a5-40e9-aad5-0f7824ed8110",
   "metadata": {},
   "outputs": [
    {
     "data": {
      "text/plain": [
       "377"
      ]
     },
     "execution_count": 33,
     "metadata": {},
     "output_type": "execute_result"
    }
   ],
   "source": [
    "next(f)"
   ]
  },
  {
   "cell_type": "code",
   "execution_count": 34,
   "id": "9e85da25-6f9a-4ec8-aeaa-50ba9d03e5e3",
   "metadata": {},
   "outputs": [],
   "source": []
  },
  {
   "cell_type": "code",
   "execution_count": null,
   "id": "81144b9b-8d6b-4fa7-994d-980753670dd5",
   "metadata": {},
   "outputs": [],
   "source": []
  },
  {
   "cell_type": "code",
   "execution_count": null,
   "id": "e0c4e31e-c6a3-42aa-a122-a2a4776afa74",
   "metadata": {},
   "outputs": [],
   "source": []
  },
  {
   "cell_type": "code",
   "execution_count": null,
   "id": "b17f5076-0995-4d50-8031-c674630b8417",
   "metadata": {},
   "outputs": [],
   "source": []
  }
 ],
 "metadata": {
  "kernelspec": {
   "display_name": "Python 3",
   "language": "python",
   "name": "python3"
  },
  "language_info": {
   "codemirror_mode": {
    "name": "ipython",
    "version": 3
   },
   "file_extension": ".py",
   "mimetype": "text/x-python",
   "name": "python",
   "nbconvert_exporter": "python",
   "pygments_lexer": "ipython3",
   "version": "3.8.8"
  }
 },
 "nbformat": 4,
 "nbformat_minor": 5
}
