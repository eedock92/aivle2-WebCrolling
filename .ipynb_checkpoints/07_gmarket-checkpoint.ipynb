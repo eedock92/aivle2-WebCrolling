{
 "cells": [
  {
   "cell_type": "code",
   "execution_count": null,
   "id": "6c05f36c-0de9-44ec-8caa-d3c2da759789",
   "metadata": {},
   "outputs": [],
   "source": [
    "Gmarket \n",
    "상품 데이터 200개 수집"
   ]
  },
  {
   "cell_type": "code",
   "execution_count": 1,
   "id": "e96b333e-bc75-4ac6-a352-dd1d377dcfa9",
   "metadata": {},
   "outputs": [],
   "source": [
    "import pandas as pd\n",
    "import requests\n",
    "from bs4 import BeautifulSoup"
   ]
  },
  {
   "cell_type": "code",
   "execution_count": 3,
   "id": "f54811ac-9d23-4fc0-9442-ba13cbfb4a81",
   "metadata": {},
   "outputs": [],
   "source": [
    "# 1. URL\n",
    "url = \"http://corners.gmarket.co.kr/Bestsellers\""
   ]
  },
  {
   "cell_type": "code",
   "execution_count": 4,
   "id": "3c7e3698-cfd8-4c64-81c0-93fb6024a21f",
   "metadata": {},
   "outputs": [
    {
     "data": {
      "text/plain": [
       "<Response [200]>"
      ]
     },
     "execution_count": 4,
     "metadata": {},
     "output_type": "execute_result"
    }
   ],
   "source": [
    "# 2. request => response : HTML\n",
    "response = requests.get(url)\n",
    "response"
   ]
  },
  {
   "cell_type": "code",
   "execution_count": 5,
   "id": "3172d980-cbff-4edc-93fe-970cda56713b",
   "metadata": {},
   "outputs": [
    {
     "data": {
      "text/plain": [
       "'<!DOCTYPE HTML PUBLIC \"-//W3C//DTD HTML 4.01 Transitional//EN\" \"http://www.w3.org/TR/html4/loose.dtd\">\\r\\n<html lang=\"ko\">\\r\\n<head>\\r\\n\\t<title>G마켓 - G마켓 베스트</title>\\r\\n\\t<meta http-equiv=\"X-UA-Compatible\" con'"
      ]
     },
     "execution_count": 5,
     "metadata": {},
     "output_type": "execute_result"
    }
   ],
   "source": [
    "response.text[:200]"
   ]
  },
  {
   "cell_type": "code",
   "execution_count": 6,
   "id": "19daca5d-c045-49f4-8cb5-7d8d5ded0c57",
   "metadata": {},
   "outputs": [
    {
     "data": {
      "text/plain": [
       "bs4.BeautifulSoup"
      ]
     },
     "execution_count": 6,
     "metadata": {},
     "output_type": "execute_result"
    }
   ],
   "source": [
    "# 3. HTML(str) => BeautifulSoup Object\n",
    "dom = BeautifulSoup(response.text, \"html.parser\")\n",
    "type(dom)"
   ]
  },
  {
   "cell_type": "code",
   "execution_count": 9,
   "id": "981c2f16-3b0f-4a43-b27d-94c8b773a378",
   "metadata": {},
   "outputs": [
    {
     "data": {
      "text/plain": [
       "200"
      ]
     },
     "execution_count": 9,
     "metadata": {},
     "output_type": "execute_result"
    }
   ],
   "source": [
    "# 4. BeautifulSoup Object => css-selector => DataFrame\n"
   ]
  },
  {
   "cell_type": "code",
   "execution_count": 14,
   "id": "78fc3c60-a6cb-4714-876c-39839fb6cebd",
   "metadata": {},
   "outputs": [
    {
     "data": {
      "text/plain": [
       "200"
      ]
     },
     "execution_count": 14,
     "metadata": {},
     "output_type": "execute_result"
    }
   ],
   "source": [
    "# 200개\n",
    "elements = dom.select(\"#gBestWrap > div > div:nth-child(5) > div > ul > li\")\n",
    "len(elements)"
   ]
  },
  {
   "cell_type": "code",
   "execution_count": 15,
   "id": "1f52891a-8dca-4638-ab01-c35436038aed",
   "metadata": {},
   "outputs": [],
   "source": [
    "element = elements[0]"
   ]
  },
  {
   "cell_type": "code",
   "execution_count": 20,
   "id": "77009c6f-602b-42c3-9a5e-a47e035fe197",
   "metadata": {},
   "outputs": [
    {
     "data": {
      "text/plain": [
       "{'title': '[한상궁김치]한상궁김치 국산 겉절이 2kg 출고당일생산',\n",
       " 'o_price': '23,400원',\n",
       " 's_price': '11,000원',\n",
       " 'img': 'http://gdimg.gmarket.co.kr/1798110680/still/300?ver=2022080416'}"
      ]
     },
     "execution_count": 20,
     "metadata": {},
     "output_type": "execute_result"
    }
   ],
   "source": [
    "data = {\n",
    "    \"title\" : element.select_one(\".itemname\").text,\n",
    "    \"o_price\" : element.select_one(\".o-price\").text,\n",
    "    \"s_price\" : element.select_one(\".s-price > strong\").text,\n",
    "    \"img\" : \"http:\" + element.select_one(\"img\").get(\"data-original\"),\n",
    "}\n",
    "data"
   ]
  },
  {
   "cell_type": "code",
   "execution_count": 27,
   "id": "bc7c73dc-4ff8-41d0-b945-efa8e6d29eee",
   "metadata": {},
   "outputs": [],
   "source": [
    "items = []\n",
    "for element in elements:\n",
    "    data = {\n",
    "    \"title\" : element.select_one(\".itemname\").text,\n",
    "    \"o_price\" : element.select_one(\".o-price\").text,\n",
    "    \"s_price\" : element.select_one(\".s-price > strong\").text,\n",
    "    \"img\" : \"http:\" + element.select_one(\"img\").get(\"data-original\"),\n",
    "    }\n",
    "    items.append(data)\n"
   ]
  },
  {
   "cell_type": "code",
   "execution_count": 28,
   "id": "5885c9cd-dd56-4de2-a714-597cb5cfd6d2",
   "metadata": {},
   "outputs": [
    {
     "data": {
      "text/plain": [
       "[{'title': '[한상궁김치]한상궁김치 국산 겉절이 2kg 출고당일생산',\n",
       "  'o_price': '23,400원',\n",
       "  's_price': '11,000원',\n",
       "  'img': 'http://gdimg.gmarket.co.kr/1798110680/still/300?ver=2022080416'},\n",
       " {'title': '[광동]아이스웨일 레몬라임 탄산수 500ml 40pet/음료/음료수',\n",
       "  'o_price': '17,300원',\n",
       "  's_price': '13,900원',\n",
       "  'img': 'http://gdimg.gmarket.co.kr/2355814801/still/300?ver=2022080416'},\n",
       " {'title': '[바디스토리]남성 누디5매 냉감 쿨 드로즈 남자 아이스 사각 팬티 / 무료반품+10%+15%할인',\n",
       "  'o_price': '39,600원',\n",
       "  's_price': '11,900원',\n",
       "  'img': 'http://gdimg.gmarket.co.kr/2520900839/still/300?ver=2022080416'}]"
      ]
     },
     "execution_count": 28,
     "metadata": {},
     "output_type": "execute_result"
    }
   ],
   "source": [
    "items[:3]"
   ]
  },
  {
   "cell_type": "code",
   "execution_count": 29,
   "id": "e0055739-e21c-439a-b67b-953a4a7854e5",
   "metadata": {},
   "outputs": [
    {
     "data": {
      "text/html": [
       "<div>\n",
       "<style scoped>\n",
       "    .dataframe tbody tr th:only-of-type {\n",
       "        vertical-align: middle;\n",
       "    }\n",
       "\n",
       "    .dataframe tbody tr th {\n",
       "        vertical-align: top;\n",
       "    }\n",
       "\n",
       "    .dataframe thead th {\n",
       "        text-align: right;\n",
       "    }\n",
       "</style>\n",
       "<table border=\"1\" class=\"dataframe\">\n",
       "  <thead>\n",
       "    <tr style=\"text-align: right;\">\n",
       "      <th></th>\n",
       "      <th>title</th>\n",
       "      <th>o_price</th>\n",
       "      <th>s_price</th>\n",
       "      <th>img</th>\n",
       "    </tr>\n",
       "  </thead>\n",
       "  <tbody>\n",
       "    <tr>\n",
       "      <th>198</th>\n",
       "      <td>주니어김영사 놓지 마 어휘 한자어 1 2 3 4 번 전4권 세트</td>\n",
       "      <td>81,000원</td>\n",
       "      <td>55,200원</td>\n",
       "      <td>http://gdimg.gmarket.co.kr/2298871614/still/30...</td>\n",
       "    </tr>\n",
       "    <tr>\n",
       "      <th>199</th>\n",
       "      <td>김치메밀전병900gx2봉1.8kg/만두 간식 메밀 2봉/HACCP/</td>\n",
       "      <td>19,900원</td>\n",
       "      <td>12,500원</td>\n",
       "      <td>http://gdimg.gmarket.co.kr/1521852173/still/30...</td>\n",
       "    </tr>\n",
       "  </tbody>\n",
       "</table>\n",
       "</div>"
      ],
      "text/plain": [
       "                                     title  o_price  s_price  \\\n",
       "198    주니어김영사 놓지 마 어휘 한자어 1 2 3 4 번 전4권 세트  81,000원  55,200원   \n",
       "199  김치메밀전병900gx2봉1.8kg/만두 간식 메밀 2봉/HACCP/  19,900원  12,500원   \n",
       "\n",
       "                                                   img  \n",
       "198  http://gdimg.gmarket.co.kr/2298871614/still/30...  \n",
       "199  http://gdimg.gmarket.co.kr/1521852173/still/30...  "
      ]
     },
     "execution_count": 29,
     "metadata": {},
     "output_type": "execute_result"
    }
   ],
   "source": [
    "df = pd.DataFrame(items)\n",
    "df.tail(2)"
   ]
  },
  {
   "cell_type": "code",
   "execution_count": null,
   "id": "e55b4347-c615-441d-8aa8-b519cc79db2a",
   "metadata": {},
   "outputs": [],
   "source": [
    "# 웹 페이지의 종류\n",
    "# -동적 : URL 변경 없이 웹 페이지 데이터 변경 : JSON : API\n",
    "# -정적 : html -> BeautifulSoup(css selector) 사용"
   ]
  },
  {
   "cell_type": "code",
   "execution_count": null,
   "id": "95882861-4cd3-4d34-9022-e2248d2f613e",
   "metadata": {},
   "outputs": [],
   "source": [
    "# 실습\n",
    "# naver api : 검색어 트랜드\n",
    "# zigbang : 원룸 데이터 수집\n",
    "# daum exchange : headers(user-agent, referer)\n",
    "# html, css-selector\n",
    "# naver relational keyword\n",
    "# gmarket item\n",
    "# 추가 : kakao api 사용하여 주소 얻기\n",
    "\n",
    "# crawling images\n",
    "# crawling selenium\n",
    "# xpath\n",
    "# python web crawling 스크래피"
   ]
  }
 ],
 "metadata": {
  "kernelspec": {
   "display_name": "Python 3",
   "language": "python",
   "name": "python3"
  },
  "language_info": {
   "codemirror_mode": {
    "name": "ipython",
    "version": 3
   },
   "file_extension": ".py",
   "mimetype": "text/x-python",
   "name": "python",
   "nbconvert_exporter": "python",
   "pygments_lexer": "ipython3",
   "version": "3.8.8"
  }
 },
 "nbformat": 4,
 "nbformat_minor": 5
}
