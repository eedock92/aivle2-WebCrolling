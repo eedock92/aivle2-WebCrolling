{
 "cells": [
  {
   "cell_type": "code",
   "execution_count": null,
   "id": "9565bff7-b360-48ee-80cf-df45e84b373b",
   "metadata": {},
   "outputs": [],
   "source": [
    "css selector\n",
    "- css 스타일 적용 시킬 HTML 엘리먼트를 선택하는 방법"
   ]
  },
  {
   "cell_type": "code",
   "execution_count": null,
   "id": "70f7934a-b5e7-4488-ab92-910bb6e5a076",
   "metadata": {},
   "outputs": [],
   "source": [
    "#1. Element Tag 이름으로 선택\n",
    "# css selector : span : python 3 선택"
   ]
  },
  {
   "cell_type": "code",
   "execution_count": 1,
   "id": "2a21c12f-0b3a-4f93-b699-774b07629ec9",
   "metadata": {},
   "outputs": [
    {
     "data": {
      "text/html": [
       "<div>python 1</div>\n",
       "<p>python 2</p>\n",
       "<span>python 3</span>\n"
      ],
      "text/plain": [
       "<IPython.core.display.HTML object>"
      ]
     },
     "metadata": {},
     "output_type": "display_data"
    }
   ],
   "source": [
    "%%html\n",
    "<div id=\"kt\">\n",
    "<div>python 1</div>\n",
    "<p>python 2</p>\n",
    "<span>python 3</span>\n",
    "</div>"
   ]
  },
  {
   "cell_type": "code",
   "execution_count": null,
   "id": "453a9634-0f08-44bf-a72b-65be9bab0625",
   "metadata": {},
   "outputs": [],
   "source": []
  },
  {
   "cell_type": "code",
   "execution_count": null,
   "id": "f88c7b42-bdad-4392-934f-87c572923a53",
   "metadata": {},
   "outputs": [],
   "source": []
  }
 ],
 "metadata": {
  "kernelspec": {
   "display_name": "Python 3",
   "language": "python",
   "name": "python3"
  },
  "language_info": {
   "codemirror_mode": {
    "name": "ipython",
    "version": 3
   },
   "file_extension": ".py",
   "mimetype": "text/x-python",
   "name": "python",
   "nbconvert_exporter": "python",
   "pygments_lexer": "ipython3",
   "version": "3.8.8"
  }
 },
 "nbformat": 4,
 "nbformat_minor": 5
}
