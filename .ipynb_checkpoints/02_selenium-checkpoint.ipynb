{
 "cells": [
  {
   "cell_type": "raw",
   "id": "901aadff-780a-497f-b9f3-04001f724a0b",
   "metadata": {},
   "source": [
    "### selenium\n",
    "- 브라우져의 자동화 목적으로 만들어진 다양한 브라우져와 언어를 지원하는 라이브러리\n",
    "- 브라우져를 파이썬 코드로 컨트롤 해서 브라우져에 있는 데이터를 수집\n"
   ]
  },
  {
   "cell_type": "raw",
   "id": "45d17f0f-7ef3-49ae-a961-a7da82992edc",
   "metadata": {},
   "source": [
    "#### 크롤링 방법\n",
    "- 1. requests : json :웹 페이지의 API 트래픽을 분석해서 데이터 수집 : naver stock\n",
    "- 2. requests : json :공식적으로 제공하는 API를 applicaiton key 받아서 데이터 수집 : naver api(papago, trend)\n",
    "- 3. requests : html, Beautiful(css, selector) : 웹페이지 html 코드 받아서 데이터 수집 : gmarket\n",
    "- 4. selenium : browser - pythob : 브라우져를 파이썬 코드로 컨트롤 해서 데이터 수집 : ted\n",
    "- 크롤링 할 때 좋은 순서 : 2 > 1 > 3 > 4           "
   ]
  },
  {
   "cell_type": "code",
   "execution_count": null,
   "id": "45cd34ec-17f7-4419-8561-e669e2f1172e",
   "metadata": {},
   "outputs": [],
   "source": [
    "### 환경설정\n",
    "- 크롬 브라우져 설치\n",
    "- 크롬 브라우져 드라이버 다운로드 : 크롬 브라우져와 같은 버젼 : 크롬브라우져와 파이썬 코드 연결\n",
    "- selenium 패키지 설치\n",
    "- opt. : 크롬 브라우져의 드라이버 파일을 환경변수로 등록하면 조금 쉽게 사용"
   ]
  },
  {
   "cell_type": "code",
   "execution_count": 7,
   "id": "7df583ec-0d8b-4330-b982-48ccc4ee867c",
   "metadata": {},
   "outputs": [],
   "source": [
    "#!pip install selenium"
   ]
  },
  {
   "cell_type": "code",
   "execution_count": 2,
   "id": "d060d86a-a922-40a5-9752-e9e59e20bb38",
   "metadata": {},
   "outputs": [],
   "source": [
    "from selenium import webdriver\n",
    "from selenium.webdriver.common.by import By"
   ]
  },
  {
   "cell_type": "code",
   "execution_count": 3,
   "id": "a60c1e77-f964-4ede-84ff-32d1e90e2464",
   "metadata": {},
   "outputs": [],
   "source": [
    "# 1. 브라우져 띄우기\n",
    "driver = webdriver.Chrome()"
   ]
  },
  {
   "cell_type": "code",
   "execution_count": 4,
   "id": "bb47a184-9839-48a8-a58e-af9a28cf22a4",
   "metadata": {},
   "outputs": [],
   "source": [
    "# 2. 페이지 이동\n",
    "driver.get(\"https://daum.net\")"
   ]
  },
  {
   "cell_type": "code",
   "execution_count": 5,
   "id": "6d9482a5-a0be-44bd-9b1c-45a3d4130478",
   "metadata": {},
   "outputs": [],
   "source": [
    "# 3. 브라우져 사이즈 조절\n",
    "driver.set_window_size(200, 600)"
   ]
  },
  {
   "cell_type": "code",
   "execution_count": 6,
   "id": "a9c07ce8-d219-4b1d-948f-5af1fc7c2e0b",
   "metadata": {},
   "outputs": [],
   "source": [
    "# 4. 브라우져 스크롤 조절(자바스크립트 코드 실행)\n",
    "driver.execute_script(\"window.scrollTo(200,300)\")"
   ]
  },
  {
   "cell_type": "code",
   "execution_count": 9,
   "id": "833a8f00-10f5-43fb-9260-e2d122266a98",
   "metadata": {},
   "outputs": [],
   "source": [
    "#5. alert 다루기\n",
    "driver.execute_script(\"alert('hello selenium!');\")"
   ]
  },
  {
   "cell_type": "code",
   "execution_count": 11,
   "id": "b1225225-ebd7-449f-9662-bf305c10ba21",
   "metadata": {},
   "outputs": [],
   "source": [
    "alert = driver.switch_to.alert"
   ]
  },
  {
   "cell_type": "code",
   "execution_count": 12,
   "id": "c7a8d9f8-fa7a-4405-86ab-a0791c6ebbd3",
   "metadata": {},
   "outputs": [],
   "source": [
    "alert.accept()"
   ]
  },
  {
   "cell_type": "code",
   "execution_count": 13,
   "id": "855cab36-c464-4ca0-9ae2-c8a50f64cb34",
   "metadata": {},
   "outputs": [],
   "source": [
    "#6.input 창에 문자열 입력\n",
    "driver.find_element(By.CSS_SELECTOR, '#q').send_keys(\"파이썬\")"
   ]
  },
  {
   "cell_type": "code",
   "execution_count": 15,
   "id": "92f1d89a-9af1-40ee-8a5f-65107fea363b",
   "metadata": {},
   "outputs": [],
   "source": [
    "#7. 검색 버튼 클릭\n",
    "driver.find_element(By.CSS_SELECTOR, '.inner_search > .ico_pctop.btn_search').click()"
   ]
  },
  {
   "cell_type": "code",
   "execution_count": 16,
   "id": "174f8066-5960-4ae4-858e-da7bdb8a07db",
   "metadata": {},
   "outputs": [],
   "source": [
    "#8. 브라우져 종료\n",
    "driver.quit()"
   ]
  },
  {
   "cell_type": "code",
   "execution_count": 17,
   "id": "a0e8e776-ca97-43ca-9140-a1e78bd192d8",
   "metadata": {},
   "outputs": [],
   "source": [
    "driver = webdriver.Chrome()\n",
    "driver.get(\"https://daum.net\")\n",
    "driver.set_window_size(200, 600)\n",
    "driver.execute_script(\"window.scrollTo(200,300)\")\n",
    "driver.execute_script(\"alert('hello selenium!');\")\n",
    "alert = driver.switch_to.alert\n",
    "alert.accept()\n",
    "driver.execute_script(\"window.scrollTo(0,0)\")\n",
    "driver.find_element(By.CSS_SELECTOR, '#q').send_keys(\"파이썬\")\n",
    "driver.find_element(By.CSS_SELECTOR, '.inner_search > .ico_pctop.btn_search').click()\n",
    "driver.quit()"
   ]
  },
  {
   "cell_type": "code",
   "execution_count": null,
   "id": "1d2267a2-410b-4a06-acc0-5d08109049ee",
   "metadata": {},
   "outputs": [],
   "source": [
    "# 긴딘힌 머신러닝 사용"
   ]
  },
  {
   "cell_type": "code",
   "execution_count": 19,
   "id": "5c301e53-7721-4373-9427-d2e47946b250",
   "metadata": {},
   "outputs": [],
   "source": [
    "import pandas as pd"
   ]
  },
  {
   "cell_type": "code",
   "execution_count": 21,
   "id": "09d618e2-9740-45c0-bab7-f52a21f3ebc4",
   "metadata": {},
   "outputs": [
    {
     "data": {
      "text/html": [
       "<div>\n",
       "<style scoped>\n",
       "    .dataframe tbody tr th:only-of-type {\n",
       "        vertical-align: middle;\n",
       "    }\n",
       "\n",
       "    .dataframe tbody tr th {\n",
       "        vertical-align: top;\n",
       "    }\n",
       "\n",
       "    .dataframe thead th {\n",
       "        text-align: right;\n",
       "    }\n",
       "</style>\n",
       "<table border=\"1\" class=\"dataframe\">\n",
       "  <thead>\n",
       "    <tr style=\"text-align: right;\">\n",
       "      <th></th>\n",
       "      <th>name</th>\n",
       "      <th>gf</th>\n",
       "      <th>ga</th>\n",
       "      <th>points</th>\n",
       "    </tr>\n",
       "  </thead>\n",
       "  <tbody>\n",
       "    <tr>\n",
       "      <th>0</th>\n",
       "      <td>Manchester City</td>\n",
       "      <td>106</td>\n",
       "      <td>27</td>\n",
       "      <td>100</td>\n",
       "    </tr>\n",
       "    <tr>\n",
       "      <th>1</th>\n",
       "      <td>Manchester United</td>\n",
       "      <td>68</td>\n",
       "      <td>28</td>\n",
       "      <td>81</td>\n",
       "    </tr>\n",
       "  </tbody>\n",
       "</table>\n",
       "</div>"
      ],
      "text/plain": [
       "                name   gf  ga  points\n",
       "0    Manchester City  106  27     100\n",
       "1  Manchester United   68  28      81"
      ]
     },
     "execution_count": 21,
     "metadata": {},
     "output_type": "execute_result"
    }
   ],
   "source": [
    "df = pd.read_csv(\"premierleague.csv\")\n",
    "df.head(2)"
   ]
  },
  {
   "cell_type": "code",
   "execution_count": 23,
   "id": "1c750a64-b682-495b-91d5-ddfc805c255d",
   "metadata": {},
   "outputs": [],
   "source": [
    "feature = df[[\"gf\",\"ga\"]]\n",
    "target = df[\"points\"]"
   ]
  },
  {
   "cell_type": "code",
   "execution_count": 24,
   "id": "aa2ff43a-d39a-44b5-ad7a-b87dca722256",
   "metadata": {},
   "outputs": [],
   "source": [
    "from sklearn.linear_model import LinearRegression\n",
    "model = LinearRegression().fit(feature,target)"
   ]
  },
  {
   "cell_type": "code",
   "execution_count": 25,
   "id": "d206fab1-e99e-4e5b-94ad-4fa3069be4f0",
   "metadata": {},
   "outputs": [
    {
     "data": {
      "text/plain": [
       "array([79.])"
      ]
     },
     "execution_count": 25,
     "metadata": {},
     "output_type": "execute_result"
    }
   ],
   "source": [
    "# 데이터 예측 : 득점 80, 실점 36\n",
    "np.round(model.predict([[80, 36]]))"
   ]
  },
  {
   "cell_type": "code",
   "execution_count": null,
   "id": "ee86fb9f-daaf-48b4-8294-71f392e54663",
   "metadata": {},
   "outputs": [],
   "source": [
    "# warning 메시지 안뜨게 하기\n",
    "import warnings\n",
    "warnings.filterwarnings(\"ignore\")"
   ]
  },
  {
   "cell_type": "code",
   "execution_count": null,
   "id": "9040e4a5-888f-4c60-8dcc-81cdf3392fcb",
   "metadata": {},
   "outputs": [],
   "source": [
    "# ram에 있는 데이터를 ssd 저장"
   ]
  },
  {
   "cell_type": "code",
   "execution_count": 26,
   "id": "1e945e68-5c75-4300-a104-43a680ec995b",
   "metadata": {},
   "outputs": [],
   "source": [
    "import pickle"
   ]
  },
  {
   "cell_type": "code",
   "execution_count": 27,
   "id": "f5d67523-e3fa-4173-92a2-1e67d33fc0fb",
   "metadata": {},
   "outputs": [],
   "source": [
    "with open(\"model.pkl\",\"wb\") as file:\n",
    "    pickle.dump(model, file)"
   ]
  },
  {
   "cell_type": "code",
   "execution_count": null,
   "id": "1c654f4f-168c-4cb9-949b-32060e041b82",
   "metadata": {},
   "outputs": [],
   "source": [
    "# ssd에 있는 것을 ram에 올리기"
   ]
  },
  {
   "cell_type": "code",
   "execution_count": 29,
   "id": "8a8bd68a-e37c-4ebb-ae58-e64bde8d2f45",
   "metadata": {},
   "outputs": [],
   "source": [
    "with open('model.pkl',\"rb\") as file:\n",
    "    load_model = pickle.load(file)"
   ]
  },
  {
   "cell_type": "code",
   "execution_count": 30,
   "id": "659f5e19-896e-4bc7-8f89-b844ecc6b5c0",
   "metadata": {},
   "outputs": [
    {
     "data": {
      "text/plain": [
       "array([79.])"
      ]
     },
     "execution_count": 30,
     "metadata": {},
     "output_type": "execute_result"
    }
   ],
   "source": [
    "np.round(load_model.predict([[80,36]]))"
   ]
  },
  {
   "cell_type": "raw",
   "id": "103bee6c-6304-4628-8503-db45b37450fe",
   "metadata": {},
   "source": [
    "### 텍스트 데이터 수집\n",
    "- TED 사이트 : https://www.ted.com/talks"
   ]
  },
  {
   "cell_type": "code",
   "execution_count": 56,
   "id": "c578e1af-3120-4d66-8441-95c19af5b00f",
   "metadata": {},
   "outputs": [],
   "source": [
    "#1. 브라우저 열기\n",
    "driver = webdriver.Chrome()"
   ]
  },
  {
   "cell_type": "code",
   "execution_count": 57,
   "id": "a9b4f8a3-0fb5-4f11-a991-38cd51770731",
   "metadata": {},
   "outputs": [],
   "source": [
    "# 2. 페이지 이동\n",
    "driver.get(\"https://www.ted.com/talks\")"
   ]
  },
  {
   "cell_type": "code",
   "execution_count": 58,
   "id": "2bae39e7-d4cd-4644-8bbd-881cb9e88007",
   "metadata": {},
   "outputs": [
    {
     "data": {
      "text/plain": [
       "'Join TED Recommends to get the best ideas, selected just for you'"
      ]
     },
     "execution_count": 58,
     "metadata": {},
     "output_type": "execute_result"
    }
   ],
   "source": [
    "# 3. 제목 데이터 텍스트 수집\n",
    "sub_title = driver.find_element(By.CSS_SELECTOR, \"#banner-secondary\").text\n",
    "sub_title"
   ]
  },
  {
   "cell_type": "code",
   "execution_count": 59,
   "id": "60301158-f94b-4342-bb91-7d76e5aee84d",
   "metadata": {},
   "outputs": [
    {
     "data": {
      "text/plain": [
       "'한국어'"
      ]
     },
     "execution_count": 59,
     "metadata": {},
     "output_type": "execute_result"
    }
   ],
   "source": [
    "# 4.select box에서 한국어 메뉴 클릭\n",
    "driver.find_element(By.CSS_SELECTOR, \"#languages [lang='KO']\").text"
   ]
  },
  {
   "cell_type": "code",
   "execution_count": 51,
   "id": "adc30d9c-1eb3-4779-88c1-3c5bd32399e1",
   "metadata": {},
   "outputs": [
    {
     "data": {
      "text/plain": [
       "36"
      ]
     },
     "execution_count": 51,
     "metadata": {},
     "output_type": "execute_result"
    }
   ],
   "source": [
    "# 5. 전체 데이터의 제목과 링크 데이터 수집\n",
    "elements = driver.find_elements(By.CSS_SELECTOR, \"#browse-results > .row > div\")\n",
    "len(elements)"
   ]
  },
  {
   "cell_type": "code",
   "execution_count": 62,
   "id": "aec62967-eabb-41c7-be07-692afcb38e0f",
   "metadata": {},
   "outputs": [
    {
     "data": {
      "text/plain": [
       "(\"Can you guess what's wrong with these paintings?\",\n",
       " 'https://www.ted.com/talks/noah_charney_can_you_guess_what_s_wrong_with_these_paintings')"
      ]
     },
     "execution_count": 62,
     "metadata": {},
     "output_type": "execute_result"
    }
   ],
   "source": [
    "element = elements[0]\n",
    "title = driver.find_element(By.CSS_SELECTOR, \"h4 > .ga-link\").text\n",
    "link = driver.find_element(By.CSS_SELECTOR, \"h4 > .ga-link\").get_attribute(\"href\")\n",
    "title, link"
   ]
  },
  {
   "cell_type": "code",
   "execution_count": 66,
   "id": "4e9c09f0-27b5-4db2-80ce-af65defbec61",
   "metadata": {},
   "outputs": [],
   "source": [
    "data = []\n",
    "for element in elements:\n",
    "    data.append({\n",
    "        \"title\" : element.find_element(By.CSS_SELECTOR, \"h4 > .ga-link\").text,\n",
    "        \"link\" : element.find_element(By.CSS_SELECTOR, \"h4 > .ga-link\").get_attribute(\"href\")\n",
    "    })\n",
    "df = pd.DataFrame(data)"
   ]
  },
  {
   "cell_type": "code",
   "execution_count": 64,
   "id": "bebc09cf-4bfd-4936-b62b-b666d853d14e",
   "metadata": {},
   "outputs": [],
   "source": [
    "driver.quit()"
   ]
  },
  {
   "cell_type": "code",
   "execution_count": null,
   "id": "b44de86d-d956-4416-beb2-45c8f634100d",
   "metadata": {},
   "outputs": [],
   "source": [
    "#### Headless\n",
    "- 브라우저를 화면에 띄우지 않고 메모리 상에서만 브라우져를 실행하여 크롤링하는 방법\n",
    "- window가 지원되지 않는 환경에서 selenium 사용 가능\n",
    "- 크롬 버젼 : 60 이상부터 지원"
   ]
  },
  {
   "cell_type": "code",
   "execution_count": null,
   "id": "223ee09f-cdb7-443b-9b42-6309f1b462e0",
   "metadata": {},
   "outputs": [],
   "source": []
  },
  {
   "cell_type": "code",
   "execution_count": null,
   "id": "c2234033-6c33-4a0a-83d4-a5ce9b5d9d11",
   "metadata": {},
   "outputs": [],
   "source": []
  },
  {
   "cell_type": "code",
   "execution_count": null,
   "id": "27eb0233-0366-4c54-a76c-a062f0dcf705",
   "metadata": {},
   "outputs": [],
   "source": []
  },
  {
   "cell_type": "code",
   "execution_count": null,
   "id": "1d27406f-bffb-4f93-9cda-c20e199163f5",
   "metadata": {},
   "outputs": [],
   "source": []
  },
  {
   "cell_type": "code",
   "execution_count": null,
   "id": "448fe6ab-d3c8-439e-bc18-6a7133ef42c3",
   "metadata": {},
   "outputs": [],
   "source": []
  },
  {
   "cell_type": "code",
   "execution_count": null,
   "id": "6bdb2aa7-e598-455b-b696-962a2a0a5255",
   "metadata": {},
   "outputs": [],
   "source": []
  },
  {
   "cell_type": "code",
   "execution_count": null,
   "id": "eb89faf8-541e-4845-8315-08f058a64ea0",
   "metadata": {},
   "outputs": [],
   "source": []
  },
  {
   "cell_type": "code",
   "execution_count": null,
   "id": "4785cb15-684c-451e-8fed-8dc54259c10c",
   "metadata": {},
   "outputs": [],
   "source": []
  }
 ],
 "metadata": {
  "kernelspec": {
   "display_name": "Python 3",
   "language": "python",
   "name": "python3"
  },
  "language_info": {
   "codemirror_mode": {
    "name": "ipython",
    "version": 3
   },
   "file_extension": ".py",
   "mimetype": "text/x-python",
   "name": "python",
   "nbconvert_exporter": "python",
   "pygments_lexer": "ipython3",
   "version": "3.8.8"
  }
 },
 "nbformat": 4,
 "nbformat_minor": 5
}
