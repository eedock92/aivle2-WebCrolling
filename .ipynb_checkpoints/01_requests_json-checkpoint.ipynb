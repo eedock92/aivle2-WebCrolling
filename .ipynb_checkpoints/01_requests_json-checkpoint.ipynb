{
 "cells": [
  {
   "cell_type": "raw",
   "id": "e0321cba-bc89-47e9-a434-483c50ac232c",
   "metadata": {},
   "source": [
    "### WebCrawling\n",
    "- 웹 페이지의 종류\n",
    "    - 정적 페이지 : 페이지의 데이터가 변경 될 때 URL이 변경. HTML\n",
    "    - 동적 페이지 : 페이지의 데이터가 변경 될 때 URL이 변경 되지 않음. JSON 포멧\n",
    "- requests package\n",
    "    - 브라우져의 URL을 입력하면 서버에서 데이터를 다운받아 화면에 출력 : URL > DATA\n",
    "    - request 패키지 : URL > DATA"
   ]
  },
  {
   "cell_type": "raw",
   "id": "db546496-1664-450b-8c1a-f694166c8917",
   "metadata": {},
   "source": [
    "### NAver Stock Data\n",
    " - Kospi 지수\n",
    " - Kosdaq 지수\n",
    " - USD : 원달러 환율"
   ]
  },
  {
   "cell_type": "code",
   "execution_count": 2,
   "id": "d64c5bb8-9dd4-4e7d-9f14-f57063c1c5e2",
   "metadata": {},
   "outputs": [],
   "source": [
    "import requests\n",
    "import pandas as pd"
   ]
  },
  {
   "cell_type": "code",
   "execution_count": null,
   "id": "70e2ee55-e6dd-4e14-9e4e-206409322098",
   "metadata": {},
   "outputs": [],
   "source": [
    "# 1. 웹서비스를 분석 : 크롬 개발자 도구 :URL\n",
    "# https://m.stock.naver.com/domestic/capitalization/KOSPI"
   ]
  },
  {
   "cell_type": "code",
   "execution_count": 24,
   "id": "d28150c7-3311-4460-97d1-0dbfb49bdfa4",
   "metadata": {},
   "outputs": [],
   "source": [
    "url = 'https://m.stock.naver.com/api/stocks/marketValue/KOSPI?page=10&pageSize=20&page=1'"
   ]
  },
  {
   "cell_type": "code",
   "execution_count": 25,
   "id": "3505effc-e28b-4b62-b4b3-c554285ac7a8",
   "metadata": {},
   "outputs": [
    {
     "data": {
      "text/plain": [
       "<Response [200]>"
      ]
     },
     "execution_count": 25,
     "metadata": {},
     "output_type": "execute_result"
    }
   ],
   "source": [
    "# 2. request > response : JSON(str)\n",
    "response = requests.get(url)\n",
    "response"
   ]
  },
  {
   "cell_type": "code",
   "execution_count": 26,
   "id": "0a7e3234-1a2a-4d6d-95af-02f383a8ae7b",
   "metadata": {},
   "outputs": [
    {
     "data": {
      "text/plain": [
       "'{\"stockListSortType\":\"MARKET_VALUE\",\"stockListCategoryType\":\"KOSPI\",\"stocks\":[{\"stockEndType\":\"etf\",\"itemCode\":\"305720\",\"reutersCode\":\"305720\",\"stockName\":\"KODEX 2차전지산업\",\"sosok\":\"0\",\"closePrice\":\"19,3'"
      ]
     },
     "execution_count": 26,
     "metadata": {},
     "output_type": "execute_result"
    }
   ],
   "source": [
    "response.text[:200]"
   ]
  },
  {
   "cell_type": "code",
   "execution_count": null,
   "id": "1806a762-555c-49ac-bfe8-95469172278f",
   "metadata": {},
   "outputs": [],
   "source": [
    "# 3. JSON(str) > List, dict > DataFrame"
   ]
  },
  {
   "cell_type": "code",
   "execution_count": 28,
   "id": "f4a3d6b0-cbe5-447e-81f5-d2ce7015baeb",
   "metadata": {},
   "outputs": [
    {
     "data": {
      "text/plain": [
       "dict"
      ]
     },
     "execution_count": 28,
     "metadata": {},
     "output_type": "execute_result"
    }
   ],
   "source": [
    "data = response.json()\n",
    "type(data)"
   ]
  },
  {
   "cell_type": "code",
   "execution_count": 23,
   "id": "604f36a8-d80e-4161-a6eb-3d677034f1ed",
   "metadata": {},
   "outputs": [
    {
     "data": {
      "text/html": [
       "<div>\n",
       "<style scoped>\n",
       "    .dataframe tbody tr th:only-of-type {\n",
       "        vertical-align: middle;\n",
       "    }\n",
       "\n",
       "    .dataframe tbody tr th {\n",
       "        vertical-align: top;\n",
       "    }\n",
       "\n",
       "    .dataframe thead th {\n",
       "        text-align: right;\n",
       "    }\n",
       "</style>\n",
       "<table border=\"1\" class=\"dataframe\">\n",
       "  <thead>\n",
       "    <tr style=\"text-align: right;\">\n",
       "      <th></th>\n",
       "      <th>stockListSortType</th>\n",
       "      <th>stockListCategoryType</th>\n",
       "      <th>stocks</th>\n",
       "      <th>totalCount</th>\n",
       "      <th>page</th>\n",
       "      <th>pageSize</th>\n",
       "    </tr>\n",
       "  </thead>\n",
       "  <tbody>\n",
       "    <tr>\n",
       "      <th>0</th>\n",
       "      <td>MARKET_VALUE</td>\n",
       "      <td>KOSPI</td>\n",
       "      <td>{'stockEndType': 'etf', 'itemCode': '305720', ...</td>\n",
       "      <td>1840</td>\n",
       "      <td>10</td>\n",
       "      <td>20</td>\n",
       "    </tr>\n",
       "    <tr>\n",
       "      <th>1</th>\n",
       "      <td>MARKET_VALUE</td>\n",
       "      <td>KOSPI</td>\n",
       "      <td>{'stockEndType': 'stock', 'itemCode': '009240'...</td>\n",
       "      <td>1840</td>\n",
       "      <td>10</td>\n",
       "      <td>20</td>\n",
       "    </tr>\n",
       "    <tr>\n",
       "      <th>2</th>\n",
       "      <td>MARKET_VALUE</td>\n",
       "      <td>KOSPI</td>\n",
       "      <td>{'stockEndType': 'etf', 'itemCode': '102780', ...</td>\n",
       "      <td>1840</td>\n",
       "      <td>10</td>\n",
       "      <td>20</td>\n",
       "    </tr>\n",
       "    <tr>\n",
       "      <th>3</th>\n",
       "      <td>MARKET_VALUE</td>\n",
       "      <td>KOSPI</td>\n",
       "      <td>{'stockEndType': 'stock', 'itemCode': '042700'...</td>\n",
       "      <td>1840</td>\n",
       "      <td>10</td>\n",
       "      <td>20</td>\n",
       "    </tr>\n",
       "    <tr>\n",
       "      <th>4</th>\n",
       "      <td>MARKET_VALUE</td>\n",
       "      <td>KOSPI</td>\n",
       "      <td>{'stockEndType': 'etf', 'itemCode': '305540', ...</td>\n",
       "      <td>1840</td>\n",
       "      <td>10</td>\n",
       "      <td>20</td>\n",
       "    </tr>\n",
       "    <tr>\n",
       "      <th>5</th>\n",
       "      <td>MARKET_VALUE</td>\n",
       "      <td>KOSPI</td>\n",
       "      <td>{'stockEndType': 'stock', 'itemCode': '001120'...</td>\n",
       "      <td>1840</td>\n",
       "      <td>10</td>\n",
       "      <td>20</td>\n",
       "    </tr>\n",
       "    <tr>\n",
       "      <th>6</th>\n",
       "      <td>MARKET_VALUE</td>\n",
       "      <td>KOSPI</td>\n",
       "      <td>{'stockEndType': 'stock', 'itemCode': '139130'...</td>\n",
       "      <td>1840</td>\n",
       "      <td>10</td>\n",
       "      <td>20</td>\n",
       "    </tr>\n",
       "    <tr>\n",
       "      <th>7</th>\n",
       "      <td>MARKET_VALUE</td>\n",
       "      <td>KOSPI</td>\n",
       "      <td>{'stockEndType': 'stock', 'itemCode': '000240'...</td>\n",
       "      <td>1840</td>\n",
       "      <td>10</td>\n",
       "      <td>20</td>\n",
       "    </tr>\n",
       "    <tr>\n",
       "      <th>8</th>\n",
       "      <td>MARKET_VALUE</td>\n",
       "      <td>KOSPI</td>\n",
       "      <td>{'stockEndType': 'stock', 'itemCode': '271940'...</td>\n",
       "      <td>1840</td>\n",
       "      <td>10</td>\n",
       "      <td>20</td>\n",
       "    </tr>\n",
       "    <tr>\n",
       "      <th>9</th>\n",
       "      <td>MARKET_VALUE</td>\n",
       "      <td>KOSPI</td>\n",
       "      <td>{'stockEndType': 'etf', 'itemCode': '153130', ...</td>\n",
       "      <td>1840</td>\n",
       "      <td>10</td>\n",
       "      <td>20</td>\n",
       "    </tr>\n",
       "    <tr>\n",
       "      <th>10</th>\n",
       "      <td>MARKET_VALUE</td>\n",
       "      <td>KOSPI</td>\n",
       "      <td>{'stockEndType': 'stock', 'itemCode': '010780'...</td>\n",
       "      <td>1840</td>\n",
       "      <td>10</td>\n",
       "      <td>20</td>\n",
       "    </tr>\n",
       "    <tr>\n",
       "      <th>11</th>\n",
       "      <td>MARKET_VALUE</td>\n",
       "      <td>KOSPI</td>\n",
       "      <td>{'stockEndType': 'stock', 'itemCode': '017390'...</td>\n",
       "      <td>1840</td>\n",
       "      <td>10</td>\n",
       "      <td>20</td>\n",
       "    </tr>\n",
       "    <tr>\n",
       "      <th>12</th>\n",
       "      <td>MARKET_VALUE</td>\n",
       "      <td>KOSPI</td>\n",
       "      <td>{'stockEndType': 'stock', 'itemCode': '330590'...</td>\n",
       "      <td>1840</td>\n",
       "      <td>10</td>\n",
       "      <td>20</td>\n",
       "    </tr>\n",
       "    <tr>\n",
       "      <th>13</th>\n",
       "      <td>MARKET_VALUE</td>\n",
       "      <td>KOSPI</td>\n",
       "      <td>{'stockEndType': 'etf', 'itemCode': '310970', ...</td>\n",
       "      <td>1840</td>\n",
       "      <td>10</td>\n",
       "      <td>20</td>\n",
       "    </tr>\n",
       "    <tr>\n",
       "      <th>14</th>\n",
       "      <td>MARKET_VALUE</td>\n",
       "      <td>KOSPI</td>\n",
       "      <td>{'stockEndType': 'stock', 'itemCode': '016380'...</td>\n",
       "      <td>1840</td>\n",
       "      <td>10</td>\n",
       "      <td>20</td>\n",
       "    </tr>\n",
       "    <tr>\n",
       "      <th>15</th>\n",
       "      <td>MARKET_VALUE</td>\n",
       "      <td>KOSPI</td>\n",
       "      <td>{'stockEndType': 'stock', 'itemCode': '001230'...</td>\n",
       "      <td>1840</td>\n",
       "      <td>10</td>\n",
       "      <td>20</td>\n",
       "    </tr>\n",
       "    <tr>\n",
       "      <th>16</th>\n",
       "      <td>MARKET_VALUE</td>\n",
       "      <td>KOSPI</td>\n",
       "      <td>{'stockEndType': 'stock', 'itemCode': '000150'...</td>\n",
       "      <td>1840</td>\n",
       "      <td>10</td>\n",
       "      <td>20</td>\n",
       "    </tr>\n",
       "    <tr>\n",
       "      <th>17</th>\n",
       "      <td>MARKET_VALUE</td>\n",
       "      <td>KOSPI</td>\n",
       "      <td>{'stockEndType': 'stock', 'itemCode': '365550'...</td>\n",
       "      <td>1840</td>\n",
       "      <td>10</td>\n",
       "      <td>20</td>\n",
       "    </tr>\n",
       "    <tr>\n",
       "      <th>18</th>\n",
       "      <td>MARKET_VALUE</td>\n",
       "      <td>KOSPI</td>\n",
       "      <td>{'stockEndType': 'stock', 'itemCode': '017800'...</td>\n",
       "      <td>1840</td>\n",
       "      <td>10</td>\n",
       "      <td>20</td>\n",
       "    </tr>\n",
       "    <tr>\n",
       "      <th>19</th>\n",
       "      <td>MARKET_VALUE</td>\n",
       "      <td>KOSPI</td>\n",
       "      <td>{'stockEndType': 'etf', 'itemCode': '148020', ...</td>\n",
       "      <td>1840</td>\n",
       "      <td>10</td>\n",
       "      <td>20</td>\n",
       "    </tr>\n",
       "  </tbody>\n",
       "</table>\n",
       "</div>"
      ],
      "text/plain": [
       "   stockListSortType stockListCategoryType  \\\n",
       "0       MARKET_VALUE                 KOSPI   \n",
       "1       MARKET_VALUE                 KOSPI   \n",
       "2       MARKET_VALUE                 KOSPI   \n",
       "3       MARKET_VALUE                 KOSPI   \n",
       "4       MARKET_VALUE                 KOSPI   \n",
       "5       MARKET_VALUE                 KOSPI   \n",
       "6       MARKET_VALUE                 KOSPI   \n",
       "7       MARKET_VALUE                 KOSPI   \n",
       "8       MARKET_VALUE                 KOSPI   \n",
       "9       MARKET_VALUE                 KOSPI   \n",
       "10      MARKET_VALUE                 KOSPI   \n",
       "11      MARKET_VALUE                 KOSPI   \n",
       "12      MARKET_VALUE                 KOSPI   \n",
       "13      MARKET_VALUE                 KOSPI   \n",
       "14      MARKET_VALUE                 KOSPI   \n",
       "15      MARKET_VALUE                 KOSPI   \n",
       "16      MARKET_VALUE                 KOSPI   \n",
       "17      MARKET_VALUE                 KOSPI   \n",
       "18      MARKET_VALUE                 KOSPI   \n",
       "19      MARKET_VALUE                 KOSPI   \n",
       "\n",
       "                                               stocks  totalCount  page  \\\n",
       "0   {'stockEndType': 'etf', 'itemCode': '305720', ...        1840    10   \n",
       "1   {'stockEndType': 'stock', 'itemCode': '009240'...        1840    10   \n",
       "2   {'stockEndType': 'etf', 'itemCode': '102780', ...        1840    10   \n",
       "3   {'stockEndType': 'stock', 'itemCode': '042700'...        1840    10   \n",
       "4   {'stockEndType': 'etf', 'itemCode': '305540', ...        1840    10   \n",
       "5   {'stockEndType': 'stock', 'itemCode': '001120'...        1840    10   \n",
       "6   {'stockEndType': 'stock', 'itemCode': '139130'...        1840    10   \n",
       "7   {'stockEndType': 'stock', 'itemCode': '000240'...        1840    10   \n",
       "8   {'stockEndType': 'stock', 'itemCode': '271940'...        1840    10   \n",
       "9   {'stockEndType': 'etf', 'itemCode': '153130', ...        1840    10   \n",
       "10  {'stockEndType': 'stock', 'itemCode': '010780'...        1840    10   \n",
       "11  {'stockEndType': 'stock', 'itemCode': '017390'...        1840    10   \n",
       "12  {'stockEndType': 'stock', 'itemCode': '330590'...        1840    10   \n",
       "13  {'stockEndType': 'etf', 'itemCode': '310970', ...        1840    10   \n",
       "14  {'stockEndType': 'stock', 'itemCode': '016380'...        1840    10   \n",
       "15  {'stockEndType': 'stock', 'itemCode': '001230'...        1840    10   \n",
       "16  {'stockEndType': 'stock', 'itemCode': '000150'...        1840    10   \n",
       "17  {'stockEndType': 'stock', 'itemCode': '365550'...        1840    10   \n",
       "18  {'stockEndType': 'stock', 'itemCode': '017800'...        1840    10   \n",
       "19  {'stockEndType': 'etf', 'itemCode': '148020', ...        1840    10   \n",
       "\n",
       "    pageSize  \n",
       "0         20  \n",
       "1         20  \n",
       "2         20  \n",
       "3         20  \n",
       "4         20  \n",
       "5         20  \n",
       "6         20  \n",
       "7         20  \n",
       "8         20  \n",
       "9         20  \n",
       "10        20  \n",
       "11        20  \n",
       "12        20  \n",
       "13        20  \n",
       "14        20  \n",
       "15        20  \n",
       "16        20  \n",
       "17        20  \n",
       "18        20  \n",
       "19        20  "
      ]
     },
     "execution_count": 23,
     "metadata": {},
     "output_type": "execute_result"
    }
   ],
   "source": [
    "df = pd.DataFrame(data)\n",
    "df"
   ]
  },
  {
   "cell_type": "code",
   "execution_count": null,
   "id": "91173b5d-cf15-4cd2-8b89-50c3fc363d2a",
   "metadata": {},
   "outputs": [],
   "source": [
    "#4. 함수 만들기\n",
    "# params : pagesize, page"
   ]
  },
  {
   "cell_type": "code",
   "execution_count": 51,
   "id": "4a5e8ee2-29a1-41db-aa84-5d7a4d8eb2e8",
   "metadata": {},
   "outputs": [],
   "source": [
    "def stock_price(pagesize, page, code):\n",
    "    \"\"\"This function is crawling stock price from naver webpage\n",
    "    Params\n",
    "    ------\n",
    "    pagesize : int : one page size\n",
    "    page : int : page number\n",
    "    code : str : KOSPI or KOSDAQ\n",
    "    \n",
    "    Return\n",
    "    ------\n",
    "    type : DataFrame : display data, price columns\n",
    "    \"\"\"\n",
    "    url = f'https://m.stock.naver.com/api/index/{code}/price?pageSize={pagesize}&page={page}'\n",
    "    response = requests.get(url)\n",
    "    data = response.json()\n",
    "    return pd.DataFrame(data)[[\"localTradedAt\", \"closePrice\"]]"
   ]
  },
  {
   "cell_type": "code",
   "execution_count": 52,
   "id": "6e947b18-e1d4-4cf2-bfdf-886f84f882e4",
   "metadata": {},
   "outputs": [
    {
     "name": "stdout",
     "output_type": "stream",
     "text": [
      "Help on function stock_price in module __main__:\n",
      "\n",
      "stock_price(pagesize, page, code)\n",
      "    This function is crawling stock price from naver webpage\n",
      "    Params\n",
      "    ------\n",
      "    pagesize : int : one page size\n",
      "    page : int : page number\n",
      "    code : str : KOSPI or KOSDAQ\n",
      "    \n",
      "    Return\n",
      "    ------\n",
      "    type : DataFrame : display data, price columns\n",
      "\n"
     ]
    }
   ],
   "source": [
    "# docstring : 함수를 사용하는 방법을 문자열로 작성\n",
    "# help(), shift + tap 이용\n",
    "help(stock_price)"
   ]
  },
  {
   "cell_type": "code",
   "execution_count": 38,
   "id": "ce5fa5c2-8972-4b7b-b766-5bcb24ad3698",
   "metadata": {},
   "outputs": [
    {
     "data": {
      "text/html": [
       "<div>\n",
       "<style scoped>\n",
       "    .dataframe tbody tr th:only-of-type {\n",
       "        vertical-align: middle;\n",
       "    }\n",
       "\n",
       "    .dataframe tbody tr th {\n",
       "        vertical-align: top;\n",
       "    }\n",
       "\n",
       "    .dataframe thead th {\n",
       "        text-align: right;\n",
       "    }\n",
       "</style>\n",
       "<table border=\"1\" class=\"dataframe\">\n",
       "  <thead>\n",
       "    <tr style=\"text-align: right;\">\n",
       "      <th></th>\n",
       "      <th>localTradedAt</th>\n",
       "      <th>closePrice</th>\n",
       "    </tr>\n",
       "  </thead>\n",
       "  <tbody>\n",
       "    <tr>\n",
       "      <th>28</th>\n",
       "      <td>2022-05-11</td>\n",
       "      <td>866.34</td>\n",
       "    </tr>\n",
       "    <tr>\n",
       "      <th>29</th>\n",
       "      <td>2022-05-10</td>\n",
       "      <td>856.14</td>\n",
       "    </tr>\n",
       "  </tbody>\n",
       "</table>\n",
       "</div>"
      ],
      "text/plain": [
       "   localTradedAt closePrice\n",
       "28    2022-05-11     866.34\n",
       "29    2022-05-10     856.14"
      ]
     },
     "execution_count": 38,
     "metadata": {},
     "output_type": "execute_result"
    }
   ],
   "source": [
    "df = stock_price(30,2, \"KOSDAQ\")\n",
    "df.tail(2)"
   ]
  },
  {
   "cell_type": "code",
   "execution_count": null,
   "id": "250b9ed4-d02b-4ab3-a558-1145b9e1e181",
   "metadata": {},
   "outputs": [],
   "source": [
    "#KOSDAQ 데이터 수집 코드 작성\n"
   ]
  },
  {
   "cell_type": "code",
   "execution_count": 33,
   "id": "b21ff677-81b6-4238-8f1d-b6a5204f189f",
   "metadata": {},
   "outputs": [],
   "source": [
    "# 1. 웹서비스 분석 : URL\n",
    "url = \"https://m.stock.naver.com/api/index/KOSDAQ/price?pageSize=10&page=2\""
   ]
  },
  {
   "cell_type": "code",
   "execution_count": 34,
   "id": "3d860db1-7539-4a35-afdb-edbeea3bebb6",
   "metadata": {},
   "outputs": [
    {
     "data": {
      "text/plain": [
       "<Response [200]>"
      ]
     },
     "execution_count": 34,
     "metadata": {},
     "output_type": "execute_result"
    }
   ],
   "source": [
    "response = requests.get(url)\n",
    "response"
   ]
  },
  {
   "cell_type": "code",
   "execution_count": 39,
   "id": "4844cd0b-3579-41d2-a58c-cee5419b4a9d",
   "metadata": {},
   "outputs": [
    {
     "data": {
      "text/html": [
       "<div>\n",
       "<style scoped>\n",
       "    .dataframe tbody tr th:only-of-type {\n",
       "        vertical-align: middle;\n",
       "    }\n",
       "\n",
       "    .dataframe tbody tr th {\n",
       "        vertical-align: top;\n",
       "    }\n",
       "\n",
       "    .dataframe thead th {\n",
       "        text-align: right;\n",
       "    }\n",
       "</style>\n",
       "<table border=\"1\" class=\"dataframe\">\n",
       "  <thead>\n",
       "    <tr style=\"text-align: right;\">\n",
       "      <th></th>\n",
       "      <th>localTradedAt</th>\n",
       "      <th>closePrice</th>\n",
       "      <th>compareToPreviousClosePrice</th>\n",
       "      <th>compareToPreviousPrice</th>\n",
       "      <th>fluctuationsRatio</th>\n",
       "      <th>openPrice</th>\n",
       "      <th>highPrice</th>\n",
       "      <th>lowPrice</th>\n",
       "    </tr>\n",
       "  </thead>\n",
       "  <tbody>\n",
       "    <tr>\n",
       "      <th>8</th>\n",
       "      <td>2022-07-08</td>\n",
       "      <td>766.48</td>\n",
       "      <td>8.51</td>\n",
       "      <td>{'code': '2', 'text': '상승', 'name': 'RISING'}</td>\n",
       "      <td>1.12</td>\n",
       "      <td>764.98</td>\n",
       "      <td>770.92</td>\n",
       "      <td>764.02</td>\n",
       "    </tr>\n",
       "    <tr>\n",
       "      <th>9</th>\n",
       "      <td>2022-07-07</td>\n",
       "      <td>757.97</td>\n",
       "      <td>13.34</td>\n",
       "      <td>{'code': '2', 'text': '상승', 'name': 'RISING'}</td>\n",
       "      <td>1.79</td>\n",
       "      <td>750.98</td>\n",
       "      <td>759.03</td>\n",
       "      <td>750.67</td>\n",
       "    </tr>\n",
       "  </tbody>\n",
       "</table>\n",
       "</div>"
      ],
      "text/plain": [
       "  localTradedAt closePrice compareToPreviousClosePrice  \\\n",
       "8    2022-07-08     766.48                        8.51   \n",
       "9    2022-07-07     757.97                       13.34   \n",
       "\n",
       "                          compareToPreviousPrice fluctuationsRatio openPrice  \\\n",
       "8  {'code': '2', 'text': '상승', 'name': 'RISING'}              1.12    764.98   \n",
       "9  {'code': '2', 'text': '상승', 'name': 'RISING'}              1.79    750.98   \n",
       "\n",
       "  highPrice lowPrice  \n",
       "8    770.92   764.02  \n",
       "9    759.03   750.67  "
      ]
     },
     "execution_count": 39,
     "metadata": {},
     "output_type": "execute_result"
    }
   ],
   "source": [
    "data = response.json()\n",
    "df = pd.DataFrame(data)\n",
    "df.tail(2)"
   ]
  },
  {
   "cell_type": "code",
   "execution_count": 41,
   "id": "e446d89c-d39b-4fbd-99e7-dfb49b5c9fb0",
   "metadata": {},
   "outputs": [
    {
     "name": "stdout",
     "output_type": "stream",
     "text": [
      "<class 'list'>\n"
     ]
    }
   ],
   "source": [
    "print(type(data))"
   ]
  },
  {
   "cell_type": "code",
   "execution_count": 54,
   "id": "b2ba4808-3854-4de2-a121-638ef23f5cf3",
   "metadata": {},
   "outputs": [
    {
     "data": {
      "text/html": [
       "<div>\n",
       "<style scoped>\n",
       "    .dataframe tbody tr th:only-of-type {\n",
       "        vertical-align: middle;\n",
       "    }\n",
       "\n",
       "    .dataframe tbody tr th {\n",
       "        vertical-align: top;\n",
       "    }\n",
       "\n",
       "    .dataframe thead th {\n",
       "        text-align: right;\n",
       "    }\n",
       "</style>\n",
       "<table border=\"1\" class=\"dataframe\">\n",
       "  <thead>\n",
       "    <tr style=\"text-align: right;\">\n",
       "      <th></th>\n",
       "      <th>localTradedAt</th>\n",
       "      <th>closePrice</th>\n",
       "    </tr>\n",
       "  </thead>\n",
       "  <tbody>\n",
       "    <tr>\n",
       "      <th>0</th>\n",
       "      <td>2022-07-05T17:15:59-04:00</td>\n",
       "      <td>11,322.24</td>\n",
       "    </tr>\n",
       "    <tr>\n",
       "      <th>1</th>\n",
       "      <td>2022-07-01T17:15:59-04:00</td>\n",
       "      <td>11,127.85</td>\n",
       "    </tr>\n",
       "    <tr>\n",
       "      <th>2</th>\n",
       "      <td>2022-06-30T17:15:59-04:00</td>\n",
       "      <td>11,028.74</td>\n",
       "    </tr>\n",
       "    <tr>\n",
       "      <th>3</th>\n",
       "      <td>2022-06-29T17:15:59-04:00</td>\n",
       "      <td>11,177.89</td>\n",
       "    </tr>\n",
       "    <tr>\n",
       "      <th>4</th>\n",
       "      <td>2022-06-28T17:15:59-04:00</td>\n",
       "      <td>11,181.54</td>\n",
       "    </tr>\n",
       "  </tbody>\n",
       "</table>\n",
       "</div>"
      ],
      "text/plain": [
       "               localTradedAt closePrice\n",
       "0  2022-07-05T17:15:59-04:00  11,322.24\n",
       "1  2022-07-01T17:15:59-04:00  11,127.85\n",
       "2  2022-06-30T17:15:59-04:00  11,028.74\n",
       "3  2022-06-29T17:15:59-04:00  11,177.89\n",
       "4  2022-06-28T17:15:59-04:00  11,181.54"
      ]
     },
     "execution_count": 54,
     "metadata": {},
     "output_type": "execute_result"
    }
   ],
   "source": [
    "# 연습 하기 --> 나스닥 데이터 불러오기\n",
    "n_url = \"https://api.stock.naver.com/index/.IXIC/price?page=3&pageSize=10\"\n",
    "response = requests.get(n_url)\n",
    "data = response.json()\n",
    "df = pd.DataFrame(data)\n",
    "df.head()[['localTradedAt','closePrice']]"
   ]
  },
  {
   "cell_type": "code",
   "execution_count": null,
   "id": "1c5458a4-e11d-4b9b-a1bd-68e1a97c99de",
   "metadata": {},
   "outputs": [],
   "source": [
    "###원달러 환율 데이터"
   ]
  },
  {
   "cell_type": "code",
   "execution_count": 55,
   "id": "4f994622-c508-4406-bbf6-6602093f622f",
   "metadata": {},
   "outputs": [],
   "source": []
  },
  {
   "cell_type": "code",
   "execution_count": 71,
   "id": "fc244308-fee5-47b5-93be-e6227367aafd",
   "metadata": {},
   "outputs": [],
   "source": [
    "def exchange(paper,page,pagesize):\n",
    "    \"\"\"\n",
    "    Params\n",
    "    ------\n",
    "    page\n",
    "    pagesize\n",
    "    paper : FX_USDKRW, FX_EURKRW, \n",
    "    \n",
    "    \"\"\"\n",
    "    url = f\"https://api.stock.naver.com/marketindex/exchange/{paper}/prices?page={page}&pageSize={pagesize}\"\n",
    "    response = requests.get(url)\n",
    "    data = response.json()\n",
    "    df = pd.DataFrame(data)\n",
    "    return df[[\"localTradedAt\",\"closePrice\"]]"
   ]
  },
  {
   "cell_type": "code",
   "execution_count": 72,
   "id": "47863ff5-5611-4766-a9f8-0cf510a87d19",
   "metadata": {},
   "outputs": [
    {
     "data": {
      "text/html": [
       "<div>\n",
       "<style scoped>\n",
       "    .dataframe tbody tr th:only-of-type {\n",
       "        vertical-align: middle;\n",
       "    }\n",
       "\n",
       "    .dataframe tbody tr th {\n",
       "        vertical-align: top;\n",
       "    }\n",
       "\n",
       "    .dataframe thead th {\n",
       "        text-align: right;\n",
       "    }\n",
       "</style>\n",
       "<table border=\"1\" class=\"dataframe\">\n",
       "  <thead>\n",
       "    <tr style=\"text-align: right;\">\n",
       "      <th></th>\n",
       "      <th>localTradedAt</th>\n",
       "      <th>closePrice</th>\n",
       "    </tr>\n",
       "  </thead>\n",
       "  <tbody>\n",
       "    <tr>\n",
       "      <th>55</th>\n",
       "      <td>2022-05-16</td>\n",
       "      <td>1,341.28</td>\n",
       "    </tr>\n",
       "    <tr>\n",
       "      <th>56</th>\n",
       "      <td>2022-05-13</td>\n",
       "      <td>1,333.82</td>\n",
       "    </tr>\n",
       "    <tr>\n",
       "      <th>57</th>\n",
       "      <td>2022-05-12</td>\n",
       "      <td>1,347.02</td>\n",
       "    </tr>\n",
       "    <tr>\n",
       "      <th>58</th>\n",
       "      <td>2022-05-11</td>\n",
       "      <td>1,343.77</td>\n",
       "    </tr>\n",
       "    <tr>\n",
       "      <th>59</th>\n",
       "      <td>2022-05-10</td>\n",
       "      <td>1,346.56</td>\n",
       "    </tr>\n",
       "  </tbody>\n",
       "</table>\n",
       "</div>"
      ],
      "text/plain": [
       "   localTradedAt closePrice\n",
       "55    2022-05-16   1,341.28\n",
       "56    2022-05-13   1,333.82\n",
       "57    2022-05-12   1,347.02\n",
       "58    2022-05-11   1,343.77\n",
       "59    2022-05-10   1,346.56"
      ]
     },
     "execution_count": 72,
     "metadata": {},
     "output_type": "execute_result"
    }
   ],
   "source": [
    "exchange(\"FX_EURKRW\",1,60).tail()"
   ]
  },
  {
   "cell_type": "code",
   "execution_count": null,
   "id": "ed544dc1-ffdc-4222-afa5-20f2c55b0632",
   "metadata": {},
   "outputs": [],
   "source": [
    "#데이터분석\n",
    "#상관관계분석 : 두 데이터 집합 사이에 어떤 관계가 있는 확인하는 분석방법\n",
    "#원달러 환율이 높으면 코스피, 코스닥 지수가 낮다. 음의 상관 관계를 갖는다."
   ]
  },
  {
   "cell_type": "code",
   "execution_count": null,
   "id": "2c50df71-3222-4a82-9946-56d75e9bf789",
   "metadata": {},
   "outputs": [],
   "source": [
    "#피어슨 상관계수 : df.corr()\n",
    "# 1과 가까울수록 강한 양의 상관관계를 갖는다\n",
    "#-1과 가까울수록 강한 음의 상관관계를 갖는다.\n",
    "# 0에 가까울수록 관계가 없다."
   ]
  },
  {
   "cell_type": "code",
   "execution_count": 79,
   "id": "ddbd914c-3c00-419c-9395-59c1bfe2d1b6",
   "metadata": {},
   "outputs": [],
   "source": [
    "kospi = stock_price(30,2, \"KOSPI\")\n",
    "kosdaq = stock_price(30,2, \"KOSDAQ\")\n",
    "usd = exchange(\"FX_USDKRW\",1,60)\n",
    "df = kospi.copy()\n",
    "df[\"kosdaq\"] = kosdaq[\"closePrice\"]\n",
    "df[\"usd\"] = usd[\"closePrice\"]\n",
    "df = df.rename(columns={\"closePrice\" : \"kospi\"})\n",
    "\n"
   ]
  },
  {
   "cell_type": "code",
   "execution_count": 80,
   "id": "fce87bb4-aa18-4395-b384-822710c8577e",
   "metadata": {},
   "outputs": [
    {
     "data": {
      "text/plain": [
       "localTradedAt    object\n",
       "kospi            object\n",
       "kosdaq           object\n",
       "usd              object\n",
       "dtype: object"
      ]
     },
     "execution_count": 80,
     "metadata": {},
     "output_type": "execute_result"
    }
   ],
   "source": [
    "df.dtypes"
   ]
  },
  {
   "cell_type": "code",
   "execution_count": 99,
   "id": "59710155-8dca-40d6-9c19-3365be0be1c6",
   "metadata": {},
   "outputs": [],
   "source": [
    "# 칼럼의 데이터 타입 변경 : str -> float\n",
    "df[\"kospi\"] = df[\"kospi\"].apply(lambda data: float(data.replace(\",\",\"\")))\n",
    "df[\"kosdaq\"] = df[\"kosdaq\"].apply(lambda data: float(data.replace(\",\",\"\")))\n",
    "df[\"usd\"] = df[\"usd\"].apply(lambda data: float(data.replace(\",\",\"\")))"
   ]
  },
  {
   "cell_type": "code",
   "execution_count": 100,
   "id": "bb63c63c-479b-4898-a9a4-eb133cec99f2",
   "metadata": {},
   "outputs": [
    {
     "data": {
      "text/plain": [
       "kospi     float64\n",
       "kosdaq    float64\n",
       "usd       float64\n",
       "dtype: object"
      ]
     },
     "execution_count": 100,
     "metadata": {},
     "output_type": "execute_result"
    }
   ],
   "source": [
    "df[['kospi','kosdaq','usd']].dtypes"
   ]
  },
  {
   "cell_type": "code",
   "execution_count": 101,
   "id": "1a640aef-d46d-46de-bb1f-b1d1cf0ff3d7",
   "metadata": {},
   "outputs": [
    {
     "data": {
      "text/html": [
       "<div>\n",
       "<style scoped>\n",
       "    .dataframe tbody tr th:only-of-type {\n",
       "        vertical-align: middle;\n",
       "    }\n",
       "\n",
       "    .dataframe tbody tr th {\n",
       "        vertical-align: top;\n",
       "    }\n",
       "\n",
       "    .dataframe thead th {\n",
       "        text-align: right;\n",
       "    }\n",
       "</style>\n",
       "<table border=\"1\" class=\"dataframe\">\n",
       "  <thead>\n",
       "    <tr style=\"text-align: right;\">\n",
       "      <th></th>\n",
       "      <th>kospi</th>\n",
       "      <th>kosdaq</th>\n",
       "      <th>usd</th>\n",
       "    </tr>\n",
       "  </thead>\n",
       "  <tbody>\n",
       "    <tr>\n",
       "      <th>kospi</th>\n",
       "      <td>1.000000</td>\n",
       "      <td>0.991846</td>\n",
       "      <td>0.080800</td>\n",
       "    </tr>\n",
       "    <tr>\n",
       "      <th>kosdaq</th>\n",
       "      <td>0.991846</td>\n",
       "      <td>1.000000</td>\n",
       "      <td>0.117852</td>\n",
       "    </tr>\n",
       "    <tr>\n",
       "      <th>usd</th>\n",
       "      <td>0.080800</td>\n",
       "      <td>0.117852</td>\n",
       "      <td>1.000000</td>\n",
       "    </tr>\n",
       "  </tbody>\n",
       "</table>\n",
       "</div>"
      ],
      "text/plain": [
       "           kospi    kosdaq       usd\n",
       "kospi   1.000000  0.991846  0.080800\n",
       "kosdaq  0.991846  1.000000  0.117852\n",
       "usd     0.080800  0.117852  1.000000"
      ]
     },
     "execution_count": 101,
     "metadata": {},
     "output_type": "execute_result"
    }
   ],
   "source": [
    "df[['kospi','kosdaq','usd']].corr()"
   ]
  },
  {
   "cell_type": "code",
   "execution_count": null,
   "id": "609e364a-48ff-40ed-a5a0-98f88d9e8194",
   "metadata": {},
   "outputs": [],
   "source": []
  }
 ],
 "metadata": {
  "kernelspec": {
   "display_name": "Python 3",
   "language": "python",
   "name": "python3"
  },
  "language_info": {
   "codemirror_mode": {
    "name": "ipython",
    "version": 3
   },
   "file_extension": ".py",
   "mimetype": "text/x-python",
   "name": "python",
   "nbconvert_exporter": "python",
   "pygments_lexer": "ipython3",
   "version": "3.8.8"
  }
 },
 "nbformat": 4,
 "nbformat_minor": 5
}
